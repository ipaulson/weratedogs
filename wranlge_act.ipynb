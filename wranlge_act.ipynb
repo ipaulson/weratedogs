{
 "cells": [
  {
   "cell_type": "markdown",
   "metadata": {},
   "source": [
    "# Gather, Assess, Clean WeRateDogs Data\n",
    "Before beginning, import the following packages:\n",
    "- Pandas\n",
    "- NumPy\n",
    "- Requests\n",
    "- Tweepy\n",
    "- JSON\n",
    "- Matplotlib\n",
    "- Seaborn"
   ]
  },
  {
   "cell_type": "code",
   "execution_count": 1,
   "metadata": {
    "scrolled": true
   },
   "outputs": [],
   "source": [
    "#import packages\n",
    "import pandas as pd\n",
    "import numpy as  np\n",
    "import requests\n",
    "import json\n",
    "import tweepy\n",
    "import matplotlib.pyplot as plt\n",
    "import seaborn as sns\n",
    "\n",
    "# display plots inline\n",
    "%matplotlib inline"
   ]
  },
  {
   "cell_type": "markdown",
   "metadata": {},
   "source": [
    "## Gather\n",
    "### Tweet Archive\n",
    "I have been provided the file. Read the file to a DataFrame."
   ]
  },
  {
   "cell_type": "code",
   "execution_count": 2,
   "metadata": {},
   "outputs": [],
   "source": [
    "archive_df = pd.read_csv('twitter-archive-enhanced.csv')"
   ]
  },
  {
   "cell_type": "markdown",
   "metadata": {},
   "source": [
    "### Image Predictions\n",
    "I have been provided a URL for the file. Use the `get()` function from the Requests library to get the file and read it to a DataFrame"
   ]
  },
  {
   "cell_type": "code",
   "execution_count": 3,
   "metadata": {},
   "outputs": [],
   "source": [
    "url='https://d17h27t6h515a5.cloudfront.net/topher/2017/August/599fd2ad_image-predictions/image-predictions.tsv'\n",
    "response = requests.get(url)\n",
    "\n",
    "with open('image_predictions.tsv', 'wb') as file:\n",
    "    file.write(response.content)\n",
    "\n",
    "# Read in tsv file as a Pandas DataFrame    \n",
    "predictions_df = pd.read_csv('image_predictions.tsv', sep='\\t')"
   ]
  },
  {
   "cell_type": "markdown",
   "metadata": {},
   "source": [
    "### Tweet Information DataFrame\n",
    "Use the Tweepy API to access Twitter and collect information on the tweets. Save the data to `tweet_json.txt`.\n",
    "\n",
    "Set up the Tweepy API for use. Do not share `consumer_key`, `consumer_secret`, `access_token`, or `access_secret` in the version that is handed in. Get tweet data using Tweepy. "
   ]
  },
  {
   "cell_type": "code",
   "execution_count": 9,
   "metadata": {},
   "outputs": [
    {
     "name": "stdout",
     "output_type": "stream",
     "text": [
      "Error for: 888202515573088257\n",
      "Error for: 873697596434513921\n",
      "Error for: 872668790621863937\n",
      "Error for: 872261713294495745\n",
      "Error for: 869988702071779329\n",
      "Error for: 866816280283807744\n",
      "Error for: 861769973181624320\n",
      "Error for: 845459076796616705\n",
      "Error for: 842892208864923648\n",
      "Error for: 837012587749474308\n",
      "Error for: 827228250799742977\n",
      "Error for: 812747805718642688\n",
      "Error for: 802247111496568832\n",
      "Error for: 775096608509886464\n",
      "Error for: 770743923962707968\n"
     ]
    },
    {
     "name": "stderr",
     "output_type": "stream",
     "text": [
      "Rate limit reached. Sleeping for: 509\n"
     ]
    },
    {
     "name": "stdout",
     "output_type": "stream",
     "text": [
      "Error for: 754011816964026368\n",
      "Error for: 680055455951884288\n"
     ]
    },
    {
     "name": "stderr",
     "output_type": "stream",
     "text": [
      "Rate limit reached. Sleeping for: 507\n"
     ]
    }
   ],
   "source": [
    "consumer_key = 'XXXXX'\n",
    "consumer_secret = 'XXXXX'\n",
    "access_token = 'XXXXX'\n",
    "access_secret = 'XXXXX'\n",
    "\n",
    "auth = tweepy.OAuthHandler(consumer_key, consumer_secret)\n",
    "auth.set_access_token(access_token, access_secret)\n",
    "\n",
    "api = tweepy.API(auth)\n",
    "\n",
    "tweet_data = {}\n",
    "for tweet in list(archive_df.tweet_id):\n",
    "    try:\n",
    "        tweet_status = api.get_status(tweet,\n",
    "                                      wait_on_rate_limit=True, \n",
    "                                      wait_on_rate_limit_notify=True)\n",
    "        tweet_data[str(tweet)] = tweet_status._json\n",
    "    except: \n",
    "        print(\"Error for: \" + str(tweet))"
   ]
  },
  {
   "cell_type": "markdown",
   "metadata": {},
   "source": [
    "Write tweet data to `tweet_json.txt`."
   ]
  },
  {
   "cell_type": "code",
   "execution_count": 11,
   "metadata": {},
   "outputs": [],
   "source": [
    "with open('tweet_json.txt', 'w') as outfile:  \n",
    "    json.dump(tweet_data, outfile, \n",
    "              sort_keys = True,\n",
    "              indent=4,\n",
    "              ensure_ascii = True)"
   ]
  },
  {
   "cell_type": "markdown",
   "metadata": {},
   "source": [
    "Create `info_df` DataFrame from `tweet_json.txt`"
   ]
  },
  {
   "cell_type": "code",
   "execution_count": 4,
   "metadata": {},
   "outputs": [],
   "source": [
    "info_df = pd.read_json('tweet_json.txt',orient='index')"
   ]
  },
  {
   "cell_type": "markdown",
   "metadata": {},
   "source": [
    "## Assess\n",
    "### Tweet Archive Data-frame\n",
    "Show `info()` and the first 5 rows of the Tweet Archive DataFrame."
   ]
  },
  {
   "cell_type": "code",
   "execution_count": 5,
   "metadata": {},
   "outputs": [
    {
     "name": "stdout",
     "output_type": "stream",
     "text": [
      "<class 'pandas.core.frame.DataFrame'>\n",
      "RangeIndex: 2356 entries, 0 to 2355\n",
      "Data columns (total 17 columns):\n",
      "tweet_id                      2356 non-null int64\n",
      "in_reply_to_status_id         78 non-null float64\n",
      "in_reply_to_user_id           78 non-null float64\n",
      "timestamp                     2356 non-null object\n",
      "source                        2356 non-null object\n",
      "text                          2356 non-null object\n",
      "retweeted_status_id           181 non-null float64\n",
      "retweeted_status_user_id      181 non-null float64\n",
      "retweeted_status_timestamp    181 non-null object\n",
      "expanded_urls                 2297 non-null object\n",
      "rating_numerator              2356 non-null int64\n",
      "rating_denominator            2356 non-null int64\n",
      "name                          2356 non-null object\n",
      "doggo                         2356 non-null object\n",
      "floofer                       2356 non-null object\n",
      "pupper                        2356 non-null object\n",
      "puppo                         2356 non-null object\n",
      "dtypes: float64(4), int64(3), object(10)\n",
      "memory usage: 313.0+ KB\n"
     ]
    },
    {
     "data": {
      "text/html": [
       "<div>\n",
       "<style scoped>\n",
       "    .dataframe tbody tr th:only-of-type {\n",
       "        vertical-align: middle;\n",
       "    }\n",
       "\n",
       "    .dataframe tbody tr th {\n",
       "        vertical-align: top;\n",
       "    }\n",
       "\n",
       "    .dataframe thead th {\n",
       "        text-align: right;\n",
       "    }\n",
       "</style>\n",
       "<table border=\"1\" class=\"dataframe\">\n",
       "  <thead>\n",
       "    <tr style=\"text-align: right;\">\n",
       "      <th></th>\n",
       "      <th>tweet_id</th>\n",
       "      <th>in_reply_to_status_id</th>\n",
       "      <th>in_reply_to_user_id</th>\n",
       "      <th>timestamp</th>\n",
       "      <th>source</th>\n",
       "      <th>text</th>\n",
       "      <th>retweeted_status_id</th>\n",
       "      <th>retweeted_status_user_id</th>\n",
       "      <th>retweeted_status_timestamp</th>\n",
       "      <th>expanded_urls</th>\n",
       "      <th>rating_numerator</th>\n",
       "      <th>rating_denominator</th>\n",
       "      <th>name</th>\n",
       "      <th>doggo</th>\n",
       "      <th>floofer</th>\n",
       "      <th>pupper</th>\n",
       "      <th>puppo</th>\n",
       "    </tr>\n",
       "  </thead>\n",
       "  <tbody>\n",
       "    <tr>\n",
       "      <th>0</th>\n",
       "      <td>892420643555336193</td>\n",
       "      <td>NaN</td>\n",
       "      <td>NaN</td>\n",
       "      <td>2017-08-01 16:23:56 +0000</td>\n",
       "      <td>&lt;a href=\"http://twitter.com/download/iphone\" r...</td>\n",
       "      <td>This is Phineas. He's a mystical boy. Only eve...</td>\n",
       "      <td>NaN</td>\n",
       "      <td>NaN</td>\n",
       "      <td>NaN</td>\n",
       "      <td>https://twitter.com/dog_rates/status/892420643...</td>\n",
       "      <td>13</td>\n",
       "      <td>10</td>\n",
       "      <td>Phineas</td>\n",
       "      <td>None</td>\n",
       "      <td>None</td>\n",
       "      <td>None</td>\n",
       "      <td>None</td>\n",
       "    </tr>\n",
       "    <tr>\n",
       "      <th>1</th>\n",
       "      <td>892177421306343426</td>\n",
       "      <td>NaN</td>\n",
       "      <td>NaN</td>\n",
       "      <td>2017-08-01 00:17:27 +0000</td>\n",
       "      <td>&lt;a href=\"http://twitter.com/download/iphone\" r...</td>\n",
       "      <td>This is Tilly. She's just checking pup on you....</td>\n",
       "      <td>NaN</td>\n",
       "      <td>NaN</td>\n",
       "      <td>NaN</td>\n",
       "      <td>https://twitter.com/dog_rates/status/892177421...</td>\n",
       "      <td>13</td>\n",
       "      <td>10</td>\n",
       "      <td>Tilly</td>\n",
       "      <td>None</td>\n",
       "      <td>None</td>\n",
       "      <td>None</td>\n",
       "      <td>None</td>\n",
       "    </tr>\n",
       "    <tr>\n",
       "      <th>2</th>\n",
       "      <td>891815181378084864</td>\n",
       "      <td>NaN</td>\n",
       "      <td>NaN</td>\n",
       "      <td>2017-07-31 00:18:03 +0000</td>\n",
       "      <td>&lt;a href=\"http://twitter.com/download/iphone\" r...</td>\n",
       "      <td>This is Archie. He is a rare Norwegian Pouncin...</td>\n",
       "      <td>NaN</td>\n",
       "      <td>NaN</td>\n",
       "      <td>NaN</td>\n",
       "      <td>https://twitter.com/dog_rates/status/891815181...</td>\n",
       "      <td>12</td>\n",
       "      <td>10</td>\n",
       "      <td>Archie</td>\n",
       "      <td>None</td>\n",
       "      <td>None</td>\n",
       "      <td>None</td>\n",
       "      <td>None</td>\n",
       "    </tr>\n",
       "    <tr>\n",
       "      <th>3</th>\n",
       "      <td>891689557279858688</td>\n",
       "      <td>NaN</td>\n",
       "      <td>NaN</td>\n",
       "      <td>2017-07-30 15:58:51 +0000</td>\n",
       "      <td>&lt;a href=\"http://twitter.com/download/iphone\" r...</td>\n",
       "      <td>This is Darla. She commenced a snooze mid meal...</td>\n",
       "      <td>NaN</td>\n",
       "      <td>NaN</td>\n",
       "      <td>NaN</td>\n",
       "      <td>https://twitter.com/dog_rates/status/891689557...</td>\n",
       "      <td>13</td>\n",
       "      <td>10</td>\n",
       "      <td>Darla</td>\n",
       "      <td>None</td>\n",
       "      <td>None</td>\n",
       "      <td>None</td>\n",
       "      <td>None</td>\n",
       "    </tr>\n",
       "    <tr>\n",
       "      <th>4</th>\n",
       "      <td>891327558926688256</td>\n",
       "      <td>NaN</td>\n",
       "      <td>NaN</td>\n",
       "      <td>2017-07-29 16:00:24 +0000</td>\n",
       "      <td>&lt;a href=\"http://twitter.com/download/iphone\" r...</td>\n",
       "      <td>This is Franklin. He would like you to stop ca...</td>\n",
       "      <td>NaN</td>\n",
       "      <td>NaN</td>\n",
       "      <td>NaN</td>\n",
       "      <td>https://twitter.com/dog_rates/status/891327558...</td>\n",
       "      <td>12</td>\n",
       "      <td>10</td>\n",
       "      <td>Franklin</td>\n",
       "      <td>None</td>\n",
       "      <td>None</td>\n",
       "      <td>None</td>\n",
       "      <td>None</td>\n",
       "    </tr>\n",
       "  </tbody>\n",
       "</table>\n",
       "</div>"
      ],
      "text/plain": [
       "             tweet_id  in_reply_to_status_id  in_reply_to_user_id  \\\n",
       "0  892420643555336193                    NaN                  NaN   \n",
       "1  892177421306343426                    NaN                  NaN   \n",
       "2  891815181378084864                    NaN                  NaN   \n",
       "3  891689557279858688                    NaN                  NaN   \n",
       "4  891327558926688256                    NaN                  NaN   \n",
       "\n",
       "                   timestamp  \\\n",
       "0  2017-08-01 16:23:56 +0000   \n",
       "1  2017-08-01 00:17:27 +0000   \n",
       "2  2017-07-31 00:18:03 +0000   \n",
       "3  2017-07-30 15:58:51 +0000   \n",
       "4  2017-07-29 16:00:24 +0000   \n",
       "\n",
       "                                              source  \\\n",
       "0  <a href=\"http://twitter.com/download/iphone\" r...   \n",
       "1  <a href=\"http://twitter.com/download/iphone\" r...   \n",
       "2  <a href=\"http://twitter.com/download/iphone\" r...   \n",
       "3  <a href=\"http://twitter.com/download/iphone\" r...   \n",
       "4  <a href=\"http://twitter.com/download/iphone\" r...   \n",
       "\n",
       "                                                text  retweeted_status_id  \\\n",
       "0  This is Phineas. He's a mystical boy. Only eve...                  NaN   \n",
       "1  This is Tilly. She's just checking pup on you....                  NaN   \n",
       "2  This is Archie. He is a rare Norwegian Pouncin...                  NaN   \n",
       "3  This is Darla. She commenced a snooze mid meal...                  NaN   \n",
       "4  This is Franklin. He would like you to stop ca...                  NaN   \n",
       "\n",
       "   retweeted_status_user_id retweeted_status_timestamp  \\\n",
       "0                       NaN                        NaN   \n",
       "1                       NaN                        NaN   \n",
       "2                       NaN                        NaN   \n",
       "3                       NaN                        NaN   \n",
       "4                       NaN                        NaN   \n",
       "\n",
       "                                       expanded_urls  rating_numerator  \\\n",
       "0  https://twitter.com/dog_rates/status/892420643...                13   \n",
       "1  https://twitter.com/dog_rates/status/892177421...                13   \n",
       "2  https://twitter.com/dog_rates/status/891815181...                12   \n",
       "3  https://twitter.com/dog_rates/status/891689557...                13   \n",
       "4  https://twitter.com/dog_rates/status/891327558...                12   \n",
       "\n",
       "   rating_denominator      name doggo floofer pupper puppo  \n",
       "0                  10   Phineas  None    None   None  None  \n",
       "1                  10     Tilly  None    None   None  None  \n",
       "2                  10    Archie  None    None   None  None  \n",
       "3                  10     Darla  None    None   None  None  \n",
       "4                  10  Franklin  None    None   None  None  "
      ]
     },
     "metadata": {},
     "output_type": "display_data"
    }
   ],
   "source": [
    "archive_df.info()\n",
    "display(archive_df.head())"
   ]
  },
  {
   "cell_type": "markdown",
   "metadata": {},
   "source": [
    "### Image Preditions Data-frame\n",
    "Show `info()` and the first 5 rows of the Image Predictions DataFrame."
   ]
  },
  {
   "cell_type": "code",
   "execution_count": 6,
   "metadata": {},
   "outputs": [
    {
     "name": "stdout",
     "output_type": "stream",
     "text": [
      "<class 'pandas.core.frame.DataFrame'>\n",
      "RangeIndex: 2075 entries, 0 to 2074\n",
      "Data columns (total 12 columns):\n",
      "tweet_id    2075 non-null int64\n",
      "jpg_url     2075 non-null object\n",
      "img_num     2075 non-null int64\n",
      "p1          2075 non-null object\n",
      "p1_conf     2075 non-null float64\n",
      "p1_dog      2075 non-null bool\n",
      "p2          2075 non-null object\n",
      "p2_conf     2075 non-null float64\n",
      "p2_dog      2075 non-null bool\n",
      "p3          2075 non-null object\n",
      "p3_conf     2075 non-null float64\n",
      "p3_dog      2075 non-null bool\n",
      "dtypes: bool(3), float64(3), int64(2), object(4)\n",
      "memory usage: 152.1+ KB\n"
     ]
    },
    {
     "data": {
      "text/html": [
       "<div>\n",
       "<style scoped>\n",
       "    .dataframe tbody tr th:only-of-type {\n",
       "        vertical-align: middle;\n",
       "    }\n",
       "\n",
       "    .dataframe tbody tr th {\n",
       "        vertical-align: top;\n",
       "    }\n",
       "\n",
       "    .dataframe thead th {\n",
       "        text-align: right;\n",
       "    }\n",
       "</style>\n",
       "<table border=\"1\" class=\"dataframe\">\n",
       "  <thead>\n",
       "    <tr style=\"text-align: right;\">\n",
       "      <th></th>\n",
       "      <th>tweet_id</th>\n",
       "      <th>jpg_url</th>\n",
       "      <th>img_num</th>\n",
       "      <th>p1</th>\n",
       "      <th>p1_conf</th>\n",
       "      <th>p1_dog</th>\n",
       "      <th>p2</th>\n",
       "      <th>p2_conf</th>\n",
       "      <th>p2_dog</th>\n",
       "      <th>p3</th>\n",
       "      <th>p3_conf</th>\n",
       "      <th>p3_dog</th>\n",
       "    </tr>\n",
       "  </thead>\n",
       "  <tbody>\n",
       "    <tr>\n",
       "      <th>0</th>\n",
       "      <td>666020888022790149</td>\n",
       "      <td>https://pbs.twimg.com/media/CT4udn0WwAA0aMy.jpg</td>\n",
       "      <td>1</td>\n",
       "      <td>Welsh_springer_spaniel</td>\n",
       "      <td>0.465074</td>\n",
       "      <td>True</td>\n",
       "      <td>collie</td>\n",
       "      <td>0.156665</td>\n",
       "      <td>True</td>\n",
       "      <td>Shetland_sheepdog</td>\n",
       "      <td>0.061428</td>\n",
       "      <td>True</td>\n",
       "    </tr>\n",
       "    <tr>\n",
       "      <th>1</th>\n",
       "      <td>666029285002620928</td>\n",
       "      <td>https://pbs.twimg.com/media/CT42GRgUYAA5iDo.jpg</td>\n",
       "      <td>1</td>\n",
       "      <td>redbone</td>\n",
       "      <td>0.506826</td>\n",
       "      <td>True</td>\n",
       "      <td>miniature_pinscher</td>\n",
       "      <td>0.074192</td>\n",
       "      <td>True</td>\n",
       "      <td>Rhodesian_ridgeback</td>\n",
       "      <td>0.072010</td>\n",
       "      <td>True</td>\n",
       "    </tr>\n",
       "    <tr>\n",
       "      <th>2</th>\n",
       "      <td>666033412701032449</td>\n",
       "      <td>https://pbs.twimg.com/media/CT4521TWwAEvMyu.jpg</td>\n",
       "      <td>1</td>\n",
       "      <td>German_shepherd</td>\n",
       "      <td>0.596461</td>\n",
       "      <td>True</td>\n",
       "      <td>malinois</td>\n",
       "      <td>0.138584</td>\n",
       "      <td>True</td>\n",
       "      <td>bloodhound</td>\n",
       "      <td>0.116197</td>\n",
       "      <td>True</td>\n",
       "    </tr>\n",
       "    <tr>\n",
       "      <th>3</th>\n",
       "      <td>666044226329800704</td>\n",
       "      <td>https://pbs.twimg.com/media/CT5Dr8HUEAA-lEu.jpg</td>\n",
       "      <td>1</td>\n",
       "      <td>Rhodesian_ridgeback</td>\n",
       "      <td>0.408143</td>\n",
       "      <td>True</td>\n",
       "      <td>redbone</td>\n",
       "      <td>0.360687</td>\n",
       "      <td>True</td>\n",
       "      <td>miniature_pinscher</td>\n",
       "      <td>0.222752</td>\n",
       "      <td>True</td>\n",
       "    </tr>\n",
       "    <tr>\n",
       "      <th>4</th>\n",
       "      <td>666049248165822465</td>\n",
       "      <td>https://pbs.twimg.com/media/CT5IQmsXIAAKY4A.jpg</td>\n",
       "      <td>1</td>\n",
       "      <td>miniature_pinscher</td>\n",
       "      <td>0.560311</td>\n",
       "      <td>True</td>\n",
       "      <td>Rottweiler</td>\n",
       "      <td>0.243682</td>\n",
       "      <td>True</td>\n",
       "      <td>Doberman</td>\n",
       "      <td>0.154629</td>\n",
       "      <td>True</td>\n",
       "    </tr>\n",
       "  </tbody>\n",
       "</table>\n",
       "</div>"
      ],
      "text/plain": [
       "             tweet_id                                          jpg_url  \\\n",
       "0  666020888022790149  https://pbs.twimg.com/media/CT4udn0WwAA0aMy.jpg   \n",
       "1  666029285002620928  https://pbs.twimg.com/media/CT42GRgUYAA5iDo.jpg   \n",
       "2  666033412701032449  https://pbs.twimg.com/media/CT4521TWwAEvMyu.jpg   \n",
       "3  666044226329800704  https://pbs.twimg.com/media/CT5Dr8HUEAA-lEu.jpg   \n",
       "4  666049248165822465  https://pbs.twimg.com/media/CT5IQmsXIAAKY4A.jpg   \n",
       "\n",
       "   img_num                      p1   p1_conf  p1_dog                  p2  \\\n",
       "0        1  Welsh_springer_spaniel  0.465074    True              collie   \n",
       "1        1                 redbone  0.506826    True  miniature_pinscher   \n",
       "2        1         German_shepherd  0.596461    True            malinois   \n",
       "3        1     Rhodesian_ridgeback  0.408143    True             redbone   \n",
       "4        1      miniature_pinscher  0.560311    True          Rottweiler   \n",
       "\n",
       "    p2_conf  p2_dog                   p3   p3_conf  p3_dog  \n",
       "0  0.156665    True    Shetland_sheepdog  0.061428    True  \n",
       "1  0.074192    True  Rhodesian_ridgeback  0.072010    True  \n",
       "2  0.138584    True           bloodhound  0.116197    True  \n",
       "3  0.360687    True   miniature_pinscher  0.222752    True  \n",
       "4  0.243682    True             Doberman  0.154629    True  "
      ]
     },
     "metadata": {},
     "output_type": "display_data"
    }
   ],
   "source": [
    "predictions_df.info()\n",
    "display(predictions_df.head())"
   ]
  },
  {
   "cell_type": "markdown",
   "metadata": {},
   "source": [
    "### Tweet Information DataFrame\n",
    "Show `info()` and the first 5 rows of the Tweet Information DataFrame."
   ]
  },
  {
   "cell_type": "code",
   "execution_count": 7,
   "metadata": {},
   "outputs": [
    {
     "name": "stdout",
     "output_type": "stream",
     "text": [
      "<class 'pandas.core.frame.DataFrame'>\n",
      "DatetimeIndex: 2339 entries, 1991-02-08 13:48:08.022790149 to 1998-04-12 22:37:23.555336193\n",
      "Data columns (total 30 columns):\n",
      "contributors                     0 non-null float64\n",
      "coordinates                      0 non-null float64\n",
      "created_at                       2339 non-null datetime64[ns]\n",
      "entities                         2339 non-null object\n",
      "extended_entities                1821 non-null object\n",
      "favorite_count                   2339 non-null int64\n",
      "favorited                        2339 non-null int64\n",
      "geo                              0 non-null float64\n",
      "id                               2339 non-null int64\n",
      "id_str                           2339 non-null int64\n",
      "in_reply_to_screen_name          77 non-null object\n",
      "in_reply_to_status_id            77 non-null float64\n",
      "in_reply_to_status_id_str        77 non-null float64\n",
      "in_reply_to_user_id              77 non-null float64\n",
      "in_reply_to_user_id_str          77 non-null float64\n",
      "is_quote_status                  2339 non-null int64\n",
      "lang                             2339 non-null object\n",
      "place                            1 non-null object\n",
      "possibly_sensitive               2203 non-null float64\n",
      "possibly_sensitive_appealable    2203 non-null float64\n",
      "quoted_status                    24 non-null object\n",
      "quoted_status_id                 26 non-null float64\n",
      "quoted_status_id_str             26 non-null float64\n",
      "retweet_count                    2339 non-null int64\n",
      "retweeted                        2339 non-null int64\n",
      "retweeted_status                 167 non-null object\n",
      "source                           2339 non-null object\n",
      "text                             2339 non-null object\n",
      "truncated                        2339 non-null int64\n",
      "user                             2339 non-null object\n",
      "dtypes: datetime64[ns](1), float64(11), int64(8), object(10)\n",
      "memory usage: 566.5+ KB\n"
     ]
    },
    {
     "data": {
      "text/html": [
       "<div>\n",
       "<style scoped>\n",
       "    .dataframe tbody tr th:only-of-type {\n",
       "        vertical-align: middle;\n",
       "    }\n",
       "\n",
       "    .dataframe tbody tr th {\n",
       "        vertical-align: top;\n",
       "    }\n",
       "\n",
       "    .dataframe thead th {\n",
       "        text-align: right;\n",
       "    }\n",
       "</style>\n",
       "<table border=\"1\" class=\"dataframe\">\n",
       "  <thead>\n",
       "    <tr style=\"text-align: right;\">\n",
       "      <th></th>\n",
       "      <th>contributors</th>\n",
       "      <th>coordinates</th>\n",
       "      <th>created_at</th>\n",
       "      <th>entities</th>\n",
       "      <th>extended_entities</th>\n",
       "      <th>favorite_count</th>\n",
       "      <th>favorited</th>\n",
       "      <th>geo</th>\n",
       "      <th>id</th>\n",
       "      <th>id_str</th>\n",
       "      <th>...</th>\n",
       "      <th>quoted_status</th>\n",
       "      <th>quoted_status_id</th>\n",
       "      <th>quoted_status_id_str</th>\n",
       "      <th>retweet_count</th>\n",
       "      <th>retweeted</th>\n",
       "      <th>retweeted_status</th>\n",
       "      <th>source</th>\n",
       "      <th>text</th>\n",
       "      <th>truncated</th>\n",
       "      <th>user</th>\n",
       "    </tr>\n",
       "  </thead>\n",
       "  <tbody>\n",
       "    <tr>\n",
       "      <th>1991-02-08 13:48:08.022790149</th>\n",
       "      <td>NaN</td>\n",
       "      <td>NaN</td>\n",
       "      <td>2015-11-15 22:32:08</td>\n",
       "      <td>{'hashtags': [], 'media': [{'display_url': 'pi...</td>\n",
       "      <td>{'media': [{'display_url': 'pic.twitter.com/BL...</td>\n",
       "      <td>2519</td>\n",
       "      <td>0</td>\n",
       "      <td>NaN</td>\n",
       "      <td>666020888022790144</td>\n",
       "      <td>666020888022790144</td>\n",
       "      <td>...</td>\n",
       "      <td>NaN</td>\n",
       "      <td>NaN</td>\n",
       "      <td>NaN</td>\n",
       "      <td>497</td>\n",
       "      <td>0</td>\n",
       "      <td>NaN</td>\n",
       "      <td>&lt;a href=\"http://twitter.com/download/iphone\" r...</td>\n",
       "      <td>Here we have a Japanese Irish Setter. Lost eye...</td>\n",
       "      <td>0</td>\n",
       "      <td>{'contributors_enabled': False, 'created_at': ...</td>\n",
       "    </tr>\n",
       "    <tr>\n",
       "      <th>1991-02-08 16:08:05.002620928</th>\n",
       "      <td>NaN</td>\n",
       "      <td>NaN</td>\n",
       "      <td>2015-11-15 23:05:30</td>\n",
       "      <td>{'hashtags': [], 'media': [{'display_url': 'pi...</td>\n",
       "      <td>{'media': [{'display_url': 'pic.twitter.com/r7...</td>\n",
       "      <td>125</td>\n",
       "      <td>0</td>\n",
       "      <td>NaN</td>\n",
       "      <td>666029285002620928</td>\n",
       "      <td>666029285002620928</td>\n",
       "      <td>...</td>\n",
       "      <td>NaN</td>\n",
       "      <td>NaN</td>\n",
       "      <td>NaN</td>\n",
       "      <td>46</td>\n",
       "      <td>0</td>\n",
       "      <td>NaN</td>\n",
       "      <td>&lt;a href=\"http://twitter.com/download/iphone\" r...</td>\n",
       "      <td>This is a western brown Mitsubishi terrier. Up...</td>\n",
       "      <td>0</td>\n",
       "      <td>{'contributors_enabled': False, 'created_at': ...</td>\n",
       "    </tr>\n",
       "    <tr>\n",
       "      <th>1991-02-08 17:16:52.701032449</th>\n",
       "      <td>NaN</td>\n",
       "      <td>NaN</td>\n",
       "      <td>2015-11-15 23:21:54</td>\n",
       "      <td>{'hashtags': [], 'media': [{'display_url': 'pi...</td>\n",
       "      <td>{'media': [{'display_url': 'pic.twitter.com/y6...</td>\n",
       "      <td>121</td>\n",
       "      <td>0</td>\n",
       "      <td>NaN</td>\n",
       "      <td>666033412701032448</td>\n",
       "      <td>666033412701032448</td>\n",
       "      <td>...</td>\n",
       "      <td>NaN</td>\n",
       "      <td>NaN</td>\n",
       "      <td>NaN</td>\n",
       "      <td>43</td>\n",
       "      <td>0</td>\n",
       "      <td>NaN</td>\n",
       "      <td>&lt;a href=\"http://twitter.com/download/iphone\" r...</td>\n",
       "      <td>Here is a very happy pup. Big fan of well-main...</td>\n",
       "      <td>0</td>\n",
       "      <td>{'contributors_enabled': False, 'created_at': ...</td>\n",
       "    </tr>\n",
       "    <tr>\n",
       "      <th>1991-02-08 20:17:06.329800704</th>\n",
       "      <td>NaN</td>\n",
       "      <td>NaN</td>\n",
       "      <td>2015-11-16 00:04:52</td>\n",
       "      <td>{'hashtags': [], 'media': [{'display_url': 'pi...</td>\n",
       "      <td>{'media': [{'display_url': 'pic.twitter.com/DW...</td>\n",
       "      <td>290</td>\n",
       "      <td>0</td>\n",
       "      <td>NaN</td>\n",
       "      <td>666044226329800704</td>\n",
       "      <td>666044226329800704</td>\n",
       "      <td>...</td>\n",
       "      <td>NaN</td>\n",
       "      <td>NaN</td>\n",
       "      <td>NaN</td>\n",
       "      <td>136</td>\n",
       "      <td>0</td>\n",
       "      <td>NaN</td>\n",
       "      <td>&lt;a href=\"http://twitter.com/download/iphone\" r...</td>\n",
       "      <td>This is a purebred Piers Morgan. Loves to Netf...</td>\n",
       "      <td>0</td>\n",
       "      <td>{'contributors_enabled': False, 'created_at': ...</td>\n",
       "    </tr>\n",
       "    <tr>\n",
       "      <th>1991-02-08 21:40:48.165822465</th>\n",
       "      <td>NaN</td>\n",
       "      <td>NaN</td>\n",
       "      <td>2015-11-16 00:24:50</td>\n",
       "      <td>{'hashtags': [], 'media': [{'display_url': 'pi...</td>\n",
       "      <td>{'media': [{'display_url': 'pic.twitter.com/4B...</td>\n",
       "      <td>105</td>\n",
       "      <td>0</td>\n",
       "      <td>NaN</td>\n",
       "      <td>666049248165822464</td>\n",
       "      <td>666049248165822464</td>\n",
       "      <td>...</td>\n",
       "      <td>NaN</td>\n",
       "      <td>NaN</td>\n",
       "      <td>NaN</td>\n",
       "      <td>42</td>\n",
       "      <td>0</td>\n",
       "      <td>NaN</td>\n",
       "      <td>&lt;a href=\"http://twitter.com/download/iphone\" r...</td>\n",
       "      <td>Here we have a 1949 1st generation vulpix. Enj...</td>\n",
       "      <td>0</td>\n",
       "      <td>{'contributors_enabled': False, 'created_at': ...</td>\n",
       "    </tr>\n",
       "  </tbody>\n",
       "</table>\n",
       "<p>5 rows × 30 columns</p>\n",
       "</div>"
      ],
      "text/plain": [
       "                               contributors  coordinates          created_at  \\\n",
       "1991-02-08 13:48:08.022790149           NaN          NaN 2015-11-15 22:32:08   \n",
       "1991-02-08 16:08:05.002620928           NaN          NaN 2015-11-15 23:05:30   \n",
       "1991-02-08 17:16:52.701032449           NaN          NaN 2015-11-15 23:21:54   \n",
       "1991-02-08 20:17:06.329800704           NaN          NaN 2015-11-16 00:04:52   \n",
       "1991-02-08 21:40:48.165822465           NaN          NaN 2015-11-16 00:24:50   \n",
       "\n",
       "                                                                        entities  \\\n",
       "1991-02-08 13:48:08.022790149  {'hashtags': [], 'media': [{'display_url': 'pi...   \n",
       "1991-02-08 16:08:05.002620928  {'hashtags': [], 'media': [{'display_url': 'pi...   \n",
       "1991-02-08 17:16:52.701032449  {'hashtags': [], 'media': [{'display_url': 'pi...   \n",
       "1991-02-08 20:17:06.329800704  {'hashtags': [], 'media': [{'display_url': 'pi...   \n",
       "1991-02-08 21:40:48.165822465  {'hashtags': [], 'media': [{'display_url': 'pi...   \n",
       "\n",
       "                                                               extended_entities  \\\n",
       "1991-02-08 13:48:08.022790149  {'media': [{'display_url': 'pic.twitter.com/BL...   \n",
       "1991-02-08 16:08:05.002620928  {'media': [{'display_url': 'pic.twitter.com/r7...   \n",
       "1991-02-08 17:16:52.701032449  {'media': [{'display_url': 'pic.twitter.com/y6...   \n",
       "1991-02-08 20:17:06.329800704  {'media': [{'display_url': 'pic.twitter.com/DW...   \n",
       "1991-02-08 21:40:48.165822465  {'media': [{'display_url': 'pic.twitter.com/4B...   \n",
       "\n",
       "                               favorite_count  favorited  geo  \\\n",
       "1991-02-08 13:48:08.022790149            2519          0  NaN   \n",
       "1991-02-08 16:08:05.002620928             125          0  NaN   \n",
       "1991-02-08 17:16:52.701032449             121          0  NaN   \n",
       "1991-02-08 20:17:06.329800704             290          0  NaN   \n",
       "1991-02-08 21:40:48.165822465             105          0  NaN   \n",
       "\n",
       "                                               id              id_str  ...  \\\n",
       "1991-02-08 13:48:08.022790149  666020888022790144  666020888022790144  ...   \n",
       "1991-02-08 16:08:05.002620928  666029285002620928  666029285002620928  ...   \n",
       "1991-02-08 17:16:52.701032449  666033412701032448  666033412701032448  ...   \n",
       "1991-02-08 20:17:06.329800704  666044226329800704  666044226329800704  ...   \n",
       "1991-02-08 21:40:48.165822465  666049248165822464  666049248165822464  ...   \n",
       "\n",
       "                              quoted_status  quoted_status_id  \\\n",
       "1991-02-08 13:48:08.022790149           NaN               NaN   \n",
       "1991-02-08 16:08:05.002620928           NaN               NaN   \n",
       "1991-02-08 17:16:52.701032449           NaN               NaN   \n",
       "1991-02-08 20:17:06.329800704           NaN               NaN   \n",
       "1991-02-08 21:40:48.165822465           NaN               NaN   \n",
       "\n",
       "                               quoted_status_id_str  retweet_count  retweeted  \\\n",
       "1991-02-08 13:48:08.022790149                   NaN            497          0   \n",
       "1991-02-08 16:08:05.002620928                   NaN             46          0   \n",
       "1991-02-08 17:16:52.701032449                   NaN             43          0   \n",
       "1991-02-08 20:17:06.329800704                   NaN            136          0   \n",
       "1991-02-08 21:40:48.165822465                   NaN             42          0   \n",
       "\n",
       "                               retweeted_status  \\\n",
       "1991-02-08 13:48:08.022790149               NaN   \n",
       "1991-02-08 16:08:05.002620928               NaN   \n",
       "1991-02-08 17:16:52.701032449               NaN   \n",
       "1991-02-08 20:17:06.329800704               NaN   \n",
       "1991-02-08 21:40:48.165822465               NaN   \n",
       "\n",
       "                                                                          source  \\\n",
       "1991-02-08 13:48:08.022790149  <a href=\"http://twitter.com/download/iphone\" r...   \n",
       "1991-02-08 16:08:05.002620928  <a href=\"http://twitter.com/download/iphone\" r...   \n",
       "1991-02-08 17:16:52.701032449  <a href=\"http://twitter.com/download/iphone\" r...   \n",
       "1991-02-08 20:17:06.329800704  <a href=\"http://twitter.com/download/iphone\" r...   \n",
       "1991-02-08 21:40:48.165822465  <a href=\"http://twitter.com/download/iphone\" r...   \n",
       "\n",
       "                                                                            text  \\\n",
       "1991-02-08 13:48:08.022790149  Here we have a Japanese Irish Setter. Lost eye...   \n",
       "1991-02-08 16:08:05.002620928  This is a western brown Mitsubishi terrier. Up...   \n",
       "1991-02-08 17:16:52.701032449  Here is a very happy pup. Big fan of well-main...   \n",
       "1991-02-08 20:17:06.329800704  This is a purebred Piers Morgan. Loves to Netf...   \n",
       "1991-02-08 21:40:48.165822465  Here we have a 1949 1st generation vulpix. Enj...   \n",
       "\n",
       "                               truncated  \\\n",
       "1991-02-08 13:48:08.022790149          0   \n",
       "1991-02-08 16:08:05.002620928          0   \n",
       "1991-02-08 17:16:52.701032449          0   \n",
       "1991-02-08 20:17:06.329800704          0   \n",
       "1991-02-08 21:40:48.165822465          0   \n",
       "\n",
       "                                                                            user  \n",
       "1991-02-08 13:48:08.022790149  {'contributors_enabled': False, 'created_at': ...  \n",
       "1991-02-08 16:08:05.002620928  {'contributors_enabled': False, 'created_at': ...  \n",
       "1991-02-08 17:16:52.701032449  {'contributors_enabled': False, 'created_at': ...  \n",
       "1991-02-08 20:17:06.329800704  {'contributors_enabled': False, 'created_at': ...  \n",
       "1991-02-08 21:40:48.165822465  {'contributors_enabled': False, 'created_at': ...  \n",
       "\n",
       "[5 rows x 30 columns]"
      ]
     },
     "metadata": {},
     "output_type": "display_data"
    }
   ],
   "source": [
    "info_df.info()\n",
    "display(info_df.head())"
   ]
  },
  {
   "cell_type": "markdown",
   "metadata": {},
   "source": [
    "## Clean\n",
    "First, use `copy()` to create copies to clean:"
   ]
  },
  {
   "cell_type": "code",
   "execution_count": 18,
   "metadata": {},
   "outputs": [],
   "source": [
    "archive_df_clean = archive_df.copy()\n",
    "predictions_df_clean = predictions_df.copy()\n",
    "info_df_clean = info_df.copy()"
   ]
  },
  {
   "cell_type": "markdown",
   "metadata": {},
   "source": [
    "### Tidiness\n",
    "\n",
    "Next, I will address tidiness. Here are the requirements of tidy data.\n",
    "\n",
    "#### Requirements of tidy data\n",
    "\n",
    "(https://cran.r-project.org/web/packages/tidyr/vignettes/tidy-data.html)\n",
    "\n",
    "- Each variable forms a column.\n",
    "- Each observation forms a row.\n",
    "- Each type of observational unit forms a table.\n",
    "\n",
    "Here are some tidiness issues I observed in the DataFrames above.\n",
    "\n",
    "#### Data tidiness issues\n",
    "\n",
    "- There are unnecessary columns and duplicated rows\n",
    "- Four dog stage columns should be one column\n",
    "- Three DataFrames can be combined into one\n",
    "\n",
    "#### Define\n",
    "Use `copy()` to keep only the columns I am interested in from `info_df`. Use `rename()` to rename the `id` column to `tweet_id` to match the other DataFrames.\n",
    "#### Code"
   ]
  },
  {
   "cell_type": "code",
   "execution_count": 19,
   "metadata": {},
   "outputs": [],
   "source": [
    "info_df_clean = info_df_clean[['id', 'favorite_count', 'retweet_count']].copy()\n",
    "info_df_clean.reset_index(drop=True, inplace=True)\n",
    "info_df_clean.rename(indeIx=str, columns={'id': \"tweet_id\"}, inplace=True)"
   ]
  },
  {
   "cell_type": "markdown",
   "metadata": {},
   "source": [
    "#### Test"
   ]
  },
  {
   "cell_type": "code",
   "execution_count": 20,
   "metadata": {},
   "outputs": [
    {
     "data": {
      "text/html": [
       "<div>\n",
       "<style scoped>\n",
       "    .dataframe tbody tr th:only-of-type {\n",
       "        vertical-align: middle;\n",
       "    }\n",
       "\n",
       "    .dataframe tbody tr th {\n",
       "        vertical-align: top;\n",
       "    }\n",
       "\n",
       "    .dataframe thead th {\n",
       "        text-align: right;\n",
       "    }\n",
       "</style>\n",
       "<table border=\"1\" class=\"dataframe\">\n",
       "  <thead>\n",
       "    <tr style=\"text-align: right;\">\n",
       "      <th></th>\n",
       "      <th>tweet_id</th>\n",
       "      <th>favorite_count</th>\n",
       "      <th>retweet_count</th>\n",
       "    </tr>\n",
       "  </thead>\n",
       "  <tbody>\n",
       "    <tr>\n",
       "      <th>0</th>\n",
       "      <td>666020888022790144</td>\n",
       "      <td>2519</td>\n",
       "      <td>497</td>\n",
       "    </tr>\n",
       "    <tr>\n",
       "      <th>1</th>\n",
       "      <td>666029285002620928</td>\n",
       "      <td>125</td>\n",
       "      <td>46</td>\n",
       "    </tr>\n",
       "    <tr>\n",
       "      <th>2</th>\n",
       "      <td>666033412701032448</td>\n",
       "      <td>121</td>\n",
       "      <td>43</td>\n",
       "    </tr>\n",
       "    <tr>\n",
       "      <th>3</th>\n",
       "      <td>666044226329800704</td>\n",
       "      <td>290</td>\n",
       "      <td>136</td>\n",
       "    </tr>\n",
       "    <tr>\n",
       "      <th>4</th>\n",
       "      <td>666049248165822464</td>\n",
       "      <td>105</td>\n",
       "      <td>42</td>\n",
       "    </tr>\n",
       "  </tbody>\n",
       "</table>\n",
       "</div>"
      ],
      "text/plain": [
       "             tweet_id  favorite_count  retweet_count\n",
       "0  666020888022790144            2519            497\n",
       "1  666029285002620928             125             46\n",
       "2  666033412701032448             121             43\n",
       "3  666044226329800704             290            136\n",
       "4  666049248165822464             105             42"
      ]
     },
     "execution_count": 20,
     "metadata": {},
     "output_type": "execute_result"
    }
   ],
   "source": [
    "info_df_clean.head()"
   ]
  },
  {
   "cell_type": "markdown",
   "metadata": {},
   "source": [
    "#### Define\n",
    "Use `drop()` to drop the columns I do not want from `archive_df`.\n",
    "#### Code"
   ]
  },
  {
   "cell_type": "code",
   "execution_count": 21,
   "metadata": {},
   "outputs": [],
   "source": [
    "archive_df_clean.drop(columns=['in_reply_to_status_id', 'in_reply_to_user_id',\n",
    "                               'retweeted_status_id', 'retweeted_status_user_id',\n",
    "                              'retweeted_status_timestamp', 'source', 'expanded_urls'], index=1, inplace=True)"
   ]
  },
  {
   "cell_type": "markdown",
   "metadata": {},
   "source": [
    "#### Test"
   ]
  },
  {
   "cell_type": "code",
   "execution_count": 22,
   "metadata": {},
   "outputs": [
    {
     "data": {
      "text/html": [
       "<div>\n",
       "<style scoped>\n",
       "    .dataframe tbody tr th:only-of-type {\n",
       "        vertical-align: middle;\n",
       "    }\n",
       "\n",
       "    .dataframe tbody tr th {\n",
       "        vertical-align: top;\n",
       "    }\n",
       "\n",
       "    .dataframe thead th {\n",
       "        text-align: right;\n",
       "    }\n",
       "</style>\n",
       "<table border=\"1\" class=\"dataframe\">\n",
       "  <thead>\n",
       "    <tr style=\"text-align: right;\">\n",
       "      <th></th>\n",
       "      <th>tweet_id</th>\n",
       "      <th>timestamp</th>\n",
       "      <th>text</th>\n",
       "      <th>rating_numerator</th>\n",
       "      <th>rating_denominator</th>\n",
       "      <th>name</th>\n",
       "      <th>doggo</th>\n",
       "      <th>floofer</th>\n",
       "      <th>pupper</th>\n",
       "      <th>puppo</th>\n",
       "    </tr>\n",
       "  </thead>\n",
       "  <tbody>\n",
       "    <tr>\n",
       "      <th>0</th>\n",
       "      <td>892420643555336193</td>\n",
       "      <td>2017-08-01 16:23:56 +0000</td>\n",
       "      <td>This is Phineas. He's a mystical boy. Only eve...</td>\n",
       "      <td>13</td>\n",
       "      <td>10</td>\n",
       "      <td>Phineas</td>\n",
       "      <td>None</td>\n",
       "      <td>None</td>\n",
       "      <td>None</td>\n",
       "      <td>None</td>\n",
       "    </tr>\n",
       "    <tr>\n",
       "      <th>2</th>\n",
       "      <td>891815181378084864</td>\n",
       "      <td>2017-07-31 00:18:03 +0000</td>\n",
       "      <td>This is Archie. He is a rare Norwegian Pouncin...</td>\n",
       "      <td>12</td>\n",
       "      <td>10</td>\n",
       "      <td>Archie</td>\n",
       "      <td>None</td>\n",
       "      <td>None</td>\n",
       "      <td>None</td>\n",
       "      <td>None</td>\n",
       "    </tr>\n",
       "    <tr>\n",
       "      <th>3</th>\n",
       "      <td>891689557279858688</td>\n",
       "      <td>2017-07-30 15:58:51 +0000</td>\n",
       "      <td>This is Darla. She commenced a snooze mid meal...</td>\n",
       "      <td>13</td>\n",
       "      <td>10</td>\n",
       "      <td>Darla</td>\n",
       "      <td>None</td>\n",
       "      <td>None</td>\n",
       "      <td>None</td>\n",
       "      <td>None</td>\n",
       "    </tr>\n",
       "    <tr>\n",
       "      <th>4</th>\n",
       "      <td>891327558926688256</td>\n",
       "      <td>2017-07-29 16:00:24 +0000</td>\n",
       "      <td>This is Franklin. He would like you to stop ca...</td>\n",
       "      <td>12</td>\n",
       "      <td>10</td>\n",
       "      <td>Franklin</td>\n",
       "      <td>None</td>\n",
       "      <td>None</td>\n",
       "      <td>None</td>\n",
       "      <td>None</td>\n",
       "    </tr>\n",
       "    <tr>\n",
       "      <th>5</th>\n",
       "      <td>891087950875897856</td>\n",
       "      <td>2017-07-29 00:08:17 +0000</td>\n",
       "      <td>Here we have a majestic great white breaching ...</td>\n",
       "      <td>13</td>\n",
       "      <td>10</td>\n",
       "      <td>None</td>\n",
       "      <td>None</td>\n",
       "      <td>None</td>\n",
       "      <td>None</td>\n",
       "      <td>None</td>\n",
       "    </tr>\n",
       "  </tbody>\n",
       "</table>\n",
       "</div>"
      ],
      "text/plain": [
       "             tweet_id                  timestamp  \\\n",
       "0  892420643555336193  2017-08-01 16:23:56 +0000   \n",
       "2  891815181378084864  2017-07-31 00:18:03 +0000   \n",
       "3  891689557279858688  2017-07-30 15:58:51 +0000   \n",
       "4  891327558926688256  2017-07-29 16:00:24 +0000   \n",
       "5  891087950875897856  2017-07-29 00:08:17 +0000   \n",
       "\n",
       "                                                text  rating_numerator  \\\n",
       "0  This is Phineas. He's a mystical boy. Only eve...                13   \n",
       "2  This is Archie. He is a rare Norwegian Pouncin...                12   \n",
       "3  This is Darla. She commenced a snooze mid meal...                13   \n",
       "4  This is Franklin. He would like you to stop ca...                12   \n",
       "5  Here we have a majestic great white breaching ...                13   \n",
       "\n",
       "   rating_denominator      name doggo floofer pupper puppo  \n",
       "0                  10   Phineas  None    None   None  None  \n",
       "2                  10    Archie  None    None   None  None  \n",
       "3                  10     Darla  None    None   None  None  \n",
       "4                  10  Franklin  None    None   None  None  \n",
       "5                  10      None  None    None   None  None  "
      ]
     },
     "execution_count": 22,
     "metadata": {},
     "output_type": "execute_result"
    }
   ],
   "source": [
    "archive_df_clean.head()"
   ]
  },
  {
   "cell_type": "markdown",
   "metadata": {},
   "source": [
    "#### Define\n",
    "Dog stage should be one, not four, columns. Use `loc` to locate dog stages and put them in one column called `dog_stage`.\n",
    "#### Code"
   ]
  },
  {
   "cell_type": "code",
   "execution_count": 23,
   "metadata": {},
   "outputs": [],
   "source": [
    "archive_df_clean.loc[archive_df_clean['doggo'] == 'doggo', 'dog_stage'] = 'doggo'\n",
    "archive_df_clean.loc[archive_df_clean['floofer'] == 'floofer', 'dog_stage'] = 'floofer'\n",
    "archive_df_clean.loc[archive_df_clean['pupper'] == 'pupper', 'dog_stage'] = 'pupper'\n",
    "archive_df_clean.loc[archive_df_clean['puppo'] == 'puppo', 'dog_stage'] = 'puppo'\n",
    "\n",
    "archive_df_clean.drop(['doggo', 'floofer', 'pupper', 'puppo'], axis = 1, inplace=True)"
   ]
  },
  {
   "cell_type": "markdown",
   "metadata": {},
   "source": [
    "#### Test"
   ]
  },
  {
   "cell_type": "code",
   "execution_count": 24,
   "metadata": {},
   "outputs": [
    {
     "data": {
      "text/html": [
       "<div>\n",
       "<style scoped>\n",
       "    .dataframe tbody tr th:only-of-type {\n",
       "        vertical-align: middle;\n",
       "    }\n",
       "\n",
       "    .dataframe tbody tr th {\n",
       "        vertical-align: top;\n",
       "    }\n",
       "\n",
       "    .dataframe thead th {\n",
       "        text-align: right;\n",
       "    }\n",
       "</style>\n",
       "<table border=\"1\" class=\"dataframe\">\n",
       "  <thead>\n",
       "    <tr style=\"text-align: right;\">\n",
       "      <th></th>\n",
       "      <th>tweet_id</th>\n",
       "      <th>timestamp</th>\n",
       "      <th>text</th>\n",
       "      <th>rating_numerator</th>\n",
       "      <th>rating_denominator</th>\n",
       "      <th>name</th>\n",
       "      <th>dog_stage</th>\n",
       "    </tr>\n",
       "  </thead>\n",
       "  <tbody>\n",
       "    <tr>\n",
       "      <th>1813</th>\n",
       "      <td>676776431406465024</td>\n",
       "      <td>2015-12-15 14:50:49 +0000</td>\n",
       "      <td>When someone yells \"cops!\" at a party and you ...</td>\n",
       "      <td>10</td>\n",
       "      <td>10</td>\n",
       "      <td>None</td>\n",
       "      <td>NaN</td>\n",
       "    </tr>\n",
       "    <tr>\n",
       "      <th>507</th>\n",
       "      <td>812709060537683968</td>\n",
       "      <td>2016-12-24 17:18:34 +0000</td>\n",
       "      <td>This is Brandi and Harley. They are practicing...</td>\n",
       "      <td>12</td>\n",
       "      <td>10</td>\n",
       "      <td>Brandi</td>\n",
       "      <td>NaN</td>\n",
       "    </tr>\n",
       "    <tr>\n",
       "      <th>909</th>\n",
       "      <td>757725642876129280</td>\n",
       "      <td>2016-07-25 23:54:05 +0000</td>\n",
       "      <td>This is Beckham. He fell asleep at the wheel. ...</td>\n",
       "      <td>11</td>\n",
       "      <td>10</td>\n",
       "      <td>Beckham</td>\n",
       "      <td>NaN</td>\n",
       "    </tr>\n",
       "    <tr>\n",
       "      <th>1504</th>\n",
       "      <td>691820333922455552</td>\n",
       "      <td>2016-01-26 03:09:55 +0000</td>\n",
       "      <td>This is Brockly. He's an uber driver. Falls as...</td>\n",
       "      <td>8</td>\n",
       "      <td>10</td>\n",
       "      <td>Brockly</td>\n",
       "      <td>NaN</td>\n",
       "    </tr>\n",
       "    <tr>\n",
       "      <th>198</th>\n",
       "      <td>854365224396361728</td>\n",
       "      <td>2017-04-18 16:05:17 +0000</td>\n",
       "      <td>This is Einstein. He's having a really good da...</td>\n",
       "      <td>13</td>\n",
       "      <td>10</td>\n",
       "      <td>Einstein</td>\n",
       "      <td>NaN</td>\n",
       "    </tr>\n",
       "    <tr>\n",
       "      <th>1079</th>\n",
       "      <td>739238157791694849</td>\n",
       "      <td>2016-06-04 23:31:25 +0000</td>\n",
       "      <td>Here's a doggo blowing bubbles. It's downright...</td>\n",
       "      <td>13</td>\n",
       "      <td>10</td>\n",
       "      <td>None</td>\n",
       "      <td>doggo</td>\n",
       "    </tr>\n",
       "    <tr>\n",
       "      <th>159</th>\n",
       "      <td>860981674716409858</td>\n",
       "      <td>2017-05-06 22:16:42 +0000</td>\n",
       "      <td>RT @dog_rates: Meet Lorenzo. He's an avid nift...</td>\n",
       "      <td>13</td>\n",
       "      <td>10</td>\n",
       "      <td>Lorenzo</td>\n",
       "      <td>NaN</td>\n",
       "    </tr>\n",
       "    <tr>\n",
       "      <th>1770</th>\n",
       "      <td>678341075375947776</td>\n",
       "      <td>2015-12-19 22:28:09 +0000</td>\n",
       "      <td>This pupper likes tape. 12/10 https://t.co/cSp...</td>\n",
       "      <td>12</td>\n",
       "      <td>10</td>\n",
       "      <td>None</td>\n",
       "      <td>pupper</td>\n",
       "    </tr>\n",
       "    <tr>\n",
       "      <th>27</th>\n",
       "      <td>886736880519319552</td>\n",
       "      <td>2017-07-16 23:58:41 +0000</td>\n",
       "      <td>This is Mingus. He's a wonderful father to his...</td>\n",
       "      <td>13</td>\n",
       "      <td>10</td>\n",
       "      <td>Mingus</td>\n",
       "      <td>NaN</td>\n",
       "    </tr>\n",
       "    <tr>\n",
       "      <th>270</th>\n",
       "      <td>841314665196081154</td>\n",
       "      <td>2017-03-13 15:47:01 +0000</td>\n",
       "      <td>This is Max. There's no way in h*ck you're tak...</td>\n",
       "      <td>13</td>\n",
       "      <td>10</td>\n",
       "      <td>Max</td>\n",
       "      <td>NaN</td>\n",
       "    </tr>\n",
       "  </tbody>\n",
       "</table>\n",
       "</div>"
      ],
      "text/plain": [
       "                tweet_id                  timestamp  \\\n",
       "1813  676776431406465024  2015-12-15 14:50:49 +0000   \n",
       "507   812709060537683968  2016-12-24 17:18:34 +0000   \n",
       "909   757725642876129280  2016-07-25 23:54:05 +0000   \n",
       "1504  691820333922455552  2016-01-26 03:09:55 +0000   \n",
       "198   854365224396361728  2017-04-18 16:05:17 +0000   \n",
       "1079  739238157791694849  2016-06-04 23:31:25 +0000   \n",
       "159   860981674716409858  2017-05-06 22:16:42 +0000   \n",
       "1770  678341075375947776  2015-12-19 22:28:09 +0000   \n",
       "27    886736880519319552  2017-07-16 23:58:41 +0000   \n",
       "270   841314665196081154  2017-03-13 15:47:01 +0000   \n",
       "\n",
       "                                                   text  rating_numerator  \\\n",
       "1813  When someone yells \"cops!\" at a party and you ...                10   \n",
       "507   This is Brandi and Harley. They are practicing...                12   \n",
       "909   This is Beckham. He fell asleep at the wheel. ...                11   \n",
       "1504  This is Brockly. He's an uber driver. Falls as...                 8   \n",
       "198   This is Einstein. He's having a really good da...                13   \n",
       "1079  Here's a doggo blowing bubbles. It's downright...                13   \n",
       "159   RT @dog_rates: Meet Lorenzo. He's an avid nift...                13   \n",
       "1770  This pupper likes tape. 12/10 https://t.co/cSp...                12   \n",
       "27    This is Mingus. He's a wonderful father to his...                13   \n",
       "270   This is Max. There's no way in h*ck you're tak...                13   \n",
       "\n",
       "      rating_denominator      name dog_stage  \n",
       "1813                  10      None       NaN  \n",
       "507                   10    Brandi       NaN  \n",
       "909                   10   Beckham       NaN  \n",
       "1504                  10   Brockly       NaN  \n",
       "198                   10  Einstein       NaN  \n",
       "1079                  10      None     doggo  \n",
       "159                   10   Lorenzo       NaN  \n",
       "1770                  10      None    pupper  \n",
       "27                    10    Mingus       NaN  \n",
       "270                   10       Max       NaN  "
      ]
     },
     "execution_count": 24,
     "metadata": {},
     "output_type": "execute_result"
    }
   ],
   "source": [
    "archive_df_clean.sample(10)"
   ]
  },
  {
   "cell_type": "markdown",
   "metadata": {},
   "source": [
    "#### Define\n",
    "Create a new DataFrame called `tweets_df` by left joining `archive_df_clean`, `info_df_clean` using `merge()`. Then, use `merge()` to left join `predictions_df` to the new DataFrame, `tweets_df`.\n",
    "#### Code"
   ]
  },
  {
   "cell_type": "code",
   "execution_count": 25,
   "metadata": {},
   "outputs": [],
   "source": [
    "tweets_df = pd.merge(archive_df_clean, info_df_clean, on=['tweet_id','tweet_id'],how='left')\n",
    "tweets_df = pd.merge(tweets_df, predictions_df_clean, on=['tweet_id','tweet_id'],how='left')"
   ]
  },
  {
   "cell_type": "markdown",
   "metadata": {},
   "source": [
    "#### Test"
   ]
  },
  {
   "cell_type": "code",
   "execution_count": 26,
   "metadata": {},
   "outputs": [
    {
     "data": {
      "text/html": [
       "<div>\n",
       "<style scoped>\n",
       "    .dataframe tbody tr th:only-of-type {\n",
       "        vertical-align: middle;\n",
       "    }\n",
       "\n",
       "    .dataframe tbody tr th {\n",
       "        vertical-align: top;\n",
       "    }\n",
       "\n",
       "    .dataframe thead th {\n",
       "        text-align: right;\n",
       "    }\n",
       "</style>\n",
       "<table border=\"1\" class=\"dataframe\">\n",
       "  <thead>\n",
       "    <tr style=\"text-align: right;\">\n",
       "      <th></th>\n",
       "      <th>tweet_id</th>\n",
       "      <th>timestamp</th>\n",
       "      <th>text</th>\n",
       "      <th>rating_numerator</th>\n",
       "      <th>rating_denominator</th>\n",
       "      <th>name</th>\n",
       "      <th>dog_stage</th>\n",
       "      <th>favorite_count</th>\n",
       "      <th>retweet_count</th>\n",
       "      <th>jpg_url</th>\n",
       "      <th>img_num</th>\n",
       "      <th>p1</th>\n",
       "      <th>p1_conf</th>\n",
       "      <th>p1_dog</th>\n",
       "      <th>p2</th>\n",
       "      <th>p2_conf</th>\n",
       "      <th>p2_dog</th>\n",
       "      <th>p3</th>\n",
       "      <th>p3_conf</th>\n",
       "      <th>p3_dog</th>\n",
       "    </tr>\n",
       "  </thead>\n",
       "  <tbody>\n",
       "    <tr>\n",
       "      <th>0</th>\n",
       "      <td>892420643555336193</td>\n",
       "      <td>2017-08-01 16:23:56 +0000</td>\n",
       "      <td>This is Phineas. He's a mystical boy. Only eve...</td>\n",
       "      <td>13</td>\n",
       "      <td>10</td>\n",
       "      <td>Phineas</td>\n",
       "      <td>NaN</td>\n",
       "      <td>NaN</td>\n",
       "      <td>NaN</td>\n",
       "      <td>https://pbs.twimg.com/media/DGKD1-bXoAAIAUK.jpg</td>\n",
       "      <td>1.0</td>\n",
       "      <td>orange</td>\n",
       "      <td>0.097049</td>\n",
       "      <td>False</td>\n",
       "      <td>bagel</td>\n",
       "      <td>0.085851</td>\n",
       "      <td>False</td>\n",
       "      <td>banana</td>\n",
       "      <td>0.076110</td>\n",
       "      <td>False</td>\n",
       "    </tr>\n",
       "    <tr>\n",
       "      <th>1</th>\n",
       "      <td>891815181378084864</td>\n",
       "      <td>2017-07-31 00:18:03 +0000</td>\n",
       "      <td>This is Archie. He is a rare Norwegian Pouncin...</td>\n",
       "      <td>12</td>\n",
       "      <td>10</td>\n",
       "      <td>Archie</td>\n",
       "      <td>NaN</td>\n",
       "      <td>24391.0</td>\n",
       "      <td>4021.0</td>\n",
       "      <td>https://pbs.twimg.com/media/DGBdLU1WsAANxJ9.jpg</td>\n",
       "      <td>1.0</td>\n",
       "      <td>Chihuahua</td>\n",
       "      <td>0.716012</td>\n",
       "      <td>True</td>\n",
       "      <td>malamute</td>\n",
       "      <td>0.078253</td>\n",
       "      <td>True</td>\n",
       "      <td>kelpie</td>\n",
       "      <td>0.031379</td>\n",
       "      <td>True</td>\n",
       "    </tr>\n",
       "    <tr>\n",
       "      <th>2</th>\n",
       "      <td>891689557279858688</td>\n",
       "      <td>2017-07-30 15:58:51 +0000</td>\n",
       "      <td>This is Darla. She commenced a snooze mid meal...</td>\n",
       "      <td>13</td>\n",
       "      <td>10</td>\n",
       "      <td>Darla</td>\n",
       "      <td>NaN</td>\n",
       "      <td>41037.0</td>\n",
       "      <td>8376.0</td>\n",
       "      <td>https://pbs.twimg.com/media/DF_q7IAWsAEuuN8.jpg</td>\n",
       "      <td>1.0</td>\n",
       "      <td>paper_towel</td>\n",
       "      <td>0.170278</td>\n",
       "      <td>False</td>\n",
       "      <td>Labrador_retriever</td>\n",
       "      <td>0.168086</td>\n",
       "      <td>True</td>\n",
       "      <td>spatula</td>\n",
       "      <td>0.040836</td>\n",
       "      <td>False</td>\n",
       "    </tr>\n",
       "    <tr>\n",
       "      <th>3</th>\n",
       "      <td>891327558926688256</td>\n",
       "      <td>2017-07-29 16:00:24 +0000</td>\n",
       "      <td>This is Franklin. He would like you to stop ca...</td>\n",
       "      <td>12</td>\n",
       "      <td>10</td>\n",
       "      <td>Franklin</td>\n",
       "      <td>NaN</td>\n",
       "      <td>39229.0</td>\n",
       "      <td>9080.0</td>\n",
       "      <td>https://pbs.twimg.com/media/DF6hr6BUMAAzZgT.jpg</td>\n",
       "      <td>2.0</td>\n",
       "      <td>basset</td>\n",
       "      <td>0.555712</td>\n",
       "      <td>True</td>\n",
       "      <td>English_springer</td>\n",
       "      <td>0.225770</td>\n",
       "      <td>True</td>\n",
       "      <td>German_short-haired_pointer</td>\n",
       "      <td>0.175219</td>\n",
       "      <td>True</td>\n",
       "    </tr>\n",
       "    <tr>\n",
       "      <th>4</th>\n",
       "      <td>891087950875897856</td>\n",
       "      <td>2017-07-29 00:08:17 +0000</td>\n",
       "      <td>Here we have a majestic great white breaching ...</td>\n",
       "      <td>13</td>\n",
       "      <td>10</td>\n",
       "      <td>None</td>\n",
       "      <td>NaN</td>\n",
       "      <td>19719.0</td>\n",
       "      <td>3012.0</td>\n",
       "      <td>https://pbs.twimg.com/media/DF3HwyEWsAABqE6.jpg</td>\n",
       "      <td>1.0</td>\n",
       "      <td>Chesapeake_Bay_retriever</td>\n",
       "      <td>0.425595</td>\n",
       "      <td>True</td>\n",
       "      <td>Irish_terrier</td>\n",
       "      <td>0.116317</td>\n",
       "      <td>True</td>\n",
       "      <td>Indian_elephant</td>\n",
       "      <td>0.076902</td>\n",
       "      <td>False</td>\n",
       "    </tr>\n",
       "  </tbody>\n",
       "</table>\n",
       "</div>"
      ],
      "text/plain": [
       "             tweet_id                  timestamp  \\\n",
       "0  892420643555336193  2017-08-01 16:23:56 +0000   \n",
       "1  891815181378084864  2017-07-31 00:18:03 +0000   \n",
       "2  891689557279858688  2017-07-30 15:58:51 +0000   \n",
       "3  891327558926688256  2017-07-29 16:00:24 +0000   \n",
       "4  891087950875897856  2017-07-29 00:08:17 +0000   \n",
       "\n",
       "                                                text  rating_numerator  \\\n",
       "0  This is Phineas. He's a mystical boy. Only eve...                13   \n",
       "1  This is Archie. He is a rare Norwegian Pouncin...                12   \n",
       "2  This is Darla. She commenced a snooze mid meal...                13   \n",
       "3  This is Franklin. He would like you to stop ca...                12   \n",
       "4  Here we have a majestic great white breaching ...                13   \n",
       "\n",
       "   rating_denominator      name dog_stage  favorite_count  retweet_count  \\\n",
       "0                  10   Phineas       NaN             NaN            NaN   \n",
       "1                  10    Archie       NaN         24391.0         4021.0   \n",
       "2                  10     Darla       NaN         41037.0         8376.0   \n",
       "3                  10  Franklin       NaN         39229.0         9080.0   \n",
       "4                  10      None       NaN         19719.0         3012.0   \n",
       "\n",
       "                                           jpg_url  img_num  \\\n",
       "0  https://pbs.twimg.com/media/DGKD1-bXoAAIAUK.jpg      1.0   \n",
       "1  https://pbs.twimg.com/media/DGBdLU1WsAANxJ9.jpg      1.0   \n",
       "2  https://pbs.twimg.com/media/DF_q7IAWsAEuuN8.jpg      1.0   \n",
       "3  https://pbs.twimg.com/media/DF6hr6BUMAAzZgT.jpg      2.0   \n",
       "4  https://pbs.twimg.com/media/DF3HwyEWsAABqE6.jpg      1.0   \n",
       "\n",
       "                         p1   p1_conf p1_dog                  p2   p2_conf  \\\n",
       "0                    orange  0.097049  False               bagel  0.085851   \n",
       "1                 Chihuahua  0.716012   True            malamute  0.078253   \n",
       "2               paper_towel  0.170278  False  Labrador_retriever  0.168086   \n",
       "3                    basset  0.555712   True    English_springer  0.225770   \n",
       "4  Chesapeake_Bay_retriever  0.425595   True       Irish_terrier  0.116317   \n",
       "\n",
       "  p2_dog                           p3   p3_conf p3_dog  \n",
       "0  False                       banana  0.076110  False  \n",
       "1   True                       kelpie  0.031379   True  \n",
       "2   True                      spatula  0.040836  False  \n",
       "3   True  German_short-haired_pointer  0.175219   True  \n",
       "4   True              Indian_elephant  0.076902  False  "
      ]
     },
     "execution_count": 26,
     "metadata": {},
     "output_type": "execute_result"
    }
   ],
   "source": [
    "tweets_df.head()"
   ]
  },
  {
   "cell_type": "markdown",
   "metadata": {},
   "source": [
    "### Quality\n",
    "\n",
    "#### Data quality issues\n",
    "\n",
    "- tweet_id is an integer\n",
    "- timestamp is a string\n",
    "- not all tweets have images (jpg_url)\n",
    "- some names are not names\n",
    "- retweet and favorite counts are floats but can be counted as ints\n",
    "- dog class is a string (can be categorical)\n",
    "- img_num is a float (can be categorical)\n",
    "- ratings numerators and denominators are ints but may be more useful for calculation as floats\n",
    "- p1, p2, p3 are strings but can be booleans"
   ]
  },
  {
   "cell_type": "markdown",
   "metadata": {},
   "source": [
    "#### Define\n",
    "`tweet_id` is an integer, but it should be a string. Use `astype(str)` to change `tweet_id` to a string.  \n",
    "#### Code"
   ]
  },
  {
   "cell_type": "code",
   "execution_count": 27,
   "metadata": {},
   "outputs": [],
   "source": [
    "tweets_df['tweet_id'] = tweets_df['tweet_id'].astype(str)"
   ]
  },
  {
   "cell_type": "markdown",
   "metadata": {},
   "source": [
    "#### Test"
   ]
  },
  {
   "cell_type": "code",
   "execution_count": 28,
   "metadata": {},
   "outputs": [
    {
     "name": "stdout",
     "output_type": "stream",
     "text": [
      "<class 'pandas.core.frame.DataFrame'>\n",
      "Int64Index: 2355 entries, 0 to 2354\n",
      "Data columns (total 20 columns):\n",
      "tweet_id              2355 non-null object\n",
      "timestamp             2355 non-null object\n",
      "text                  2355 non-null object\n",
      "rating_numerator      2355 non-null int64\n",
      "rating_denominator    2355 non-null int64\n",
      "name                  2355 non-null object\n",
      "dog_stage             380 non-null object\n",
      "favorite_count        1510 non-null float64\n",
      "retweet_count         1510 non-null float64\n",
      "jpg_url               2074 non-null object\n",
      "img_num               2074 non-null float64\n",
      "p1                    2074 non-null object\n",
      "p1_conf               2074 non-null float64\n",
      "p1_dog                2074 non-null object\n",
      "p2                    2074 non-null object\n",
      "p2_conf               2074 non-null float64\n",
      "p2_dog                2074 non-null object\n",
      "p3                    2074 non-null object\n",
      "p3_conf               2074 non-null float64\n",
      "p3_dog                2074 non-null object\n",
      "dtypes: float64(6), int64(2), object(12)\n",
      "memory usage: 386.4+ KB\n"
     ]
    }
   ],
   "source": [
    "tweets_df.info()"
   ]
  },
  {
   "cell_type": "markdown",
   "metadata": {},
   "source": [
    "#### Define\n",
    "`timestamp` is a string but can be a Datetime object. Use `to_datetime` to change `timestamp` to DateTime.\n",
    "#### Code"
   ]
  },
  {
   "cell_type": "code",
   "execution_count": 29,
   "metadata": {},
   "outputs": [],
   "source": [
    "tweets_df['timestamp'] = pd.to_datetime(tweets_df['timestamp'])"
   ]
  },
  {
   "cell_type": "markdown",
   "metadata": {},
   "source": [
    "#### Test"
   ]
  },
  {
   "cell_type": "code",
   "execution_count": 30,
   "metadata": {},
   "outputs": [
    {
     "name": "stdout",
     "output_type": "stream",
     "text": [
      "<class 'pandas.core.frame.DataFrame'>\n",
      "Int64Index: 2355 entries, 0 to 2354\n",
      "Data columns (total 20 columns):\n",
      "tweet_id              2355 non-null object\n",
      "timestamp             2355 non-null datetime64[ns, UTC]\n",
      "text                  2355 non-null object\n",
      "rating_numerator      2355 non-null int64\n",
      "rating_denominator    2355 non-null int64\n",
      "name                  2355 non-null object\n",
      "dog_stage             380 non-null object\n",
      "favorite_count        1510 non-null float64\n",
      "retweet_count         1510 non-null float64\n",
      "jpg_url               2074 non-null object\n",
      "img_num               2074 non-null float64\n",
      "p1                    2074 non-null object\n",
      "p1_conf               2074 non-null float64\n",
      "p1_dog                2074 non-null object\n",
      "p2                    2074 non-null object\n",
      "p2_conf               2074 non-null float64\n",
      "p2_dog                2074 non-null object\n",
      "p3                    2074 non-null object\n",
      "p3_conf               2074 non-null float64\n",
      "p3_dog                2074 non-null object\n",
      "dtypes: datetime64[ns, UTC](1), float64(6), int64(2), object(11)\n",
      "memory usage: 386.4+ KB\n"
     ]
    }
   ],
   "source": [
    "tweets_df.info()"
   ]
  },
  {
   "cell_type": "markdown",
   "metadata": {},
   "source": [
    "#### Define\n",
    "We only need tweets with images. Use `dropna` to drop rows with no `jpg_url`.  \n",
    "#### Code"
   ]
  },
  {
   "cell_type": "code",
   "execution_count": 31,
   "metadata": {},
   "outputs": [],
   "source": [
    "tweets_df = tweets_df.dropna(subset=['jpg_url'])"
   ]
  },
  {
   "cell_type": "markdown",
   "metadata": {},
   "source": [
    "#### Test"
   ]
  },
  {
   "cell_type": "code",
   "execution_count": 32,
   "metadata": {},
   "outputs": [
    {
     "name": "stdout",
     "output_type": "stream",
     "text": [
      "<class 'pandas.core.frame.DataFrame'>\n",
      "Int64Index: 2074 entries, 0 to 2354\n",
      "Data columns (total 20 columns):\n",
      "tweet_id              2074 non-null object\n",
      "timestamp             2074 non-null datetime64[ns, UTC]\n",
      "text                  2074 non-null object\n",
      "rating_numerator      2074 non-null int64\n",
      "rating_denominator    2074 non-null int64\n",
      "name                  2074 non-null object\n",
      "dog_stage             321 non-null object\n",
      "favorite_count        1345 non-null float64\n",
      "retweet_count         1345 non-null float64\n",
      "jpg_url               2074 non-null object\n",
      "img_num               2074 non-null float64\n",
      "p1                    2074 non-null object\n",
      "p1_conf               2074 non-null float64\n",
      "p1_dog                2074 non-null object\n",
      "p2                    2074 non-null object\n",
      "p2_conf               2074 non-null float64\n",
      "p2_dog                2074 non-null object\n",
      "p3                    2074 non-null object\n",
      "p3_conf               2074 non-null float64\n",
      "p3_dog                2074 non-null object\n",
      "dtypes: datetime64[ns, UTC](1), float64(6), int64(2), object(11)\n",
      "memory usage: 340.3+ KB\n"
     ]
    }
   ],
   "source": [
    "tweets_df.info()"
   ]
  },
  {
   "cell_type": "markdown",
   "metadata": {},
   "source": [
    "#### Define\n",
    "Not all `name`s are names. Find lowercase entries in the `names` column and use `np.nan` to replace those names with NaN. Replacce NaNs with the string 'None'.\n",
    "#### Code"
   ]
  },
  {
   "cell_type": "code",
   "execution_count": 33,
   "metadata": {},
   "outputs": [],
   "source": [
    "tweets_df.loc[tweets_df['name'] == tweets_df['name'].str.lower(), 'name'] = np.nan\n",
    "tweets_df['name'].replace(np.nan, 'None', regex=True, inplace=True)"
   ]
  },
  {
   "cell_type": "markdown",
   "metadata": {},
   "source": [
    "#### Test"
   ]
  },
  {
   "cell_type": "code",
   "execution_count": 34,
   "metadata": {},
   "outputs": [
    {
     "name": "stdout",
     "output_type": "stream",
     "text": [
      "<class 'pandas.core.frame.DataFrame'>\n",
      "Int64Index: 2074 entries, 0 to 2354\n",
      "Data columns (total 20 columns):\n",
      "tweet_id              2074 non-null object\n",
      "timestamp             2074 non-null datetime64[ns, UTC]\n",
      "text                  2074 non-null object\n",
      "rating_numerator      2074 non-null int64\n",
      "rating_denominator    2074 non-null int64\n",
      "name                  2074 non-null object\n",
      "dog_stage             321 non-null object\n",
      "favorite_count        1345 non-null float64\n",
      "retweet_count         1345 non-null float64\n",
      "jpg_url               2074 non-null object\n",
      "img_num               2074 non-null float64\n",
      "p1                    2074 non-null object\n",
      "p1_conf               2074 non-null float64\n",
      "p1_dog                2074 non-null object\n",
      "p2                    2074 non-null object\n",
      "p2_conf               2074 non-null float64\n",
      "p2_dog                2074 non-null object\n",
      "p3                    2074 non-null object\n",
      "p3_conf               2074 non-null float64\n",
      "p3_dog                2074 non-null object\n",
      "dtypes: datetime64[ns, UTC](1), float64(6), int64(2), object(11)\n",
      "memory usage: 340.3+ KB\n",
      "Lowercase count:\n",
      "0\n"
     ]
    }
   ],
   "source": [
    "tweets_df.info()\n",
    "# count how many names are all lowercase\n",
    "print(\"Lowercase count:\")\n",
    "print(tweets_df.loc[tweets_df['name'] == tweets_df['name'].str.lower(), 'name'].count())"
   ]
  },
  {
   "cell_type": "markdown",
   "metadata": {},
   "source": [
    "#### Define\n",
    "`favorite_count` and `retweet_count` contain null values. If a tweet has not been favorited or retweeted, the favorite or retweet count can be considered 0. Replace null values with 0 using `fillna()`.\n",
    "\n",
    "`favorite_count` and `retweet_count` are floats, the concept of a measuring retweets or favorites makes more sense to me as an integer measurement. Use `astype` to conver `favorite_count` and `retweet_count` to ints.\n",
    "#### Code"
   ]
  },
  {
   "cell_type": "code",
   "execution_count": 35,
   "metadata": {},
   "outputs": [],
   "source": [
    "tweets_df.favorite_count = tweets_df.favorite_count.fillna(0).astype(int)\n",
    "tweets_df.retweet_count = tweets_df.retweet_count.fillna(0).astype(int)\n",
    "\n",
    "tweets_df.favorite_count = tweets_df.favorite_count.astype(int)\n",
    "tweets_df.retweet_count = tweets_df.retweet_count.astype(int)"
   ]
  },
  {
   "cell_type": "markdown",
   "metadata": {},
   "source": [
    "#### Test"
   ]
  },
  {
   "cell_type": "code",
   "execution_count": 36,
   "metadata": {},
   "outputs": [
    {
     "name": "stdout",
     "output_type": "stream",
     "text": [
      "<class 'pandas.core.frame.DataFrame'>\n",
      "Int64Index: 2074 entries, 0 to 2354\n",
      "Data columns (total 20 columns):\n",
      "tweet_id              2074 non-null object\n",
      "timestamp             2074 non-null datetime64[ns, UTC]\n",
      "text                  2074 non-null object\n",
      "rating_numerator      2074 non-null int64\n",
      "rating_denominator    2074 non-null int64\n",
      "name                  2074 non-null object\n",
      "dog_stage             321 non-null object\n",
      "favorite_count        2074 non-null int32\n",
      "retweet_count         2074 non-null int32\n",
      "jpg_url               2074 non-null object\n",
      "img_num               2074 non-null float64\n",
      "p1                    2074 non-null object\n",
      "p1_conf               2074 non-null float64\n",
      "p1_dog                2074 non-null object\n",
      "p2                    2074 non-null object\n",
      "p2_conf               2074 non-null float64\n",
      "p2_dog                2074 non-null object\n",
      "p3                    2074 non-null object\n",
      "p3_conf               2074 non-null float64\n",
      "p3_dog                2074 non-null object\n",
      "dtypes: datetime64[ns, UTC](1), float64(4), int32(2), int64(2), object(11)\n",
      "memory usage: 324.1+ KB\n"
     ]
    }
   ],
   "source": [
    "tweets_df.info()"
   ]
  },
  {
   "cell_type": "markdown",
   "metadata": {},
   "source": [
    "#### Define\n",
    "`dog_stage` contains null values. Replace null values with the string 'None' using `fillna()`.\n",
    "\n",
    "`dog_stage` is a string; it should be a categorical variable. use `astype()` to change `dog_stage` to a categorical variable.\n",
    "#### Code"
   ]
  },
  {
   "cell_type": "code",
   "execution_count": 37,
   "metadata": {},
   "outputs": [],
   "source": [
    "tweets_df['dog_stage'].replace(np.nan, 'None', regex=True, inplace=True)\n",
    "tweets_df.dog_stage = tweets_df.dog_stage.astype('category')"
   ]
  },
  {
   "cell_type": "markdown",
   "metadata": {},
   "source": [
    "#### Test"
   ]
  },
  {
   "cell_type": "code",
   "execution_count": 38,
   "metadata": {},
   "outputs": [
    {
     "name": "stdout",
     "output_type": "stream",
     "text": [
      "<class 'pandas.core.frame.DataFrame'>\n",
      "Int64Index: 2074 entries, 0 to 2354\n",
      "Data columns (total 20 columns):\n",
      "tweet_id              2074 non-null object\n",
      "timestamp             2074 non-null datetime64[ns, UTC]\n",
      "text                  2074 non-null object\n",
      "rating_numerator      2074 non-null int64\n",
      "rating_denominator    2074 non-null int64\n",
      "name                  2074 non-null object\n",
      "dog_stage             2074 non-null category\n",
      "favorite_count        2074 non-null int32\n",
      "retweet_count         2074 non-null int32\n",
      "jpg_url               2074 non-null object\n",
      "img_num               2074 non-null float64\n",
      "p1                    2074 non-null object\n",
      "p1_conf               2074 non-null float64\n",
      "p1_dog                2074 non-null object\n",
      "p2                    2074 non-null object\n",
      "p2_conf               2074 non-null float64\n",
      "p2_dog                2074 non-null object\n",
      "p3                    2074 non-null object\n",
      "p3_conf               2074 non-null float64\n",
      "p3_dog                2074 non-null object\n",
      "dtypes: category(1), datetime64[ns, UTC](1), float64(4), int32(2), int64(2), object(10)\n",
      "memory usage: 310.1+ KB\n"
     ]
    }
   ],
   "source": [
    "tweets_df.info()"
   ]
  },
  {
   "cell_type": "markdown",
   "metadata": {},
   "source": [
    "#### Define\n",
    "`rating_numerator` and `rating_denominator` are ints. According to the \"rules\" of *WeRateDogs*, anything goes; nothing is stopping anyone from submitting a rating with decimal numbers. In order to account for this quirk of the rating system, and to allow for calculations to be done as floats, use `astype(float)` to convert ratings to floats.\n",
    "#### Code"
   ]
  },
  {
   "cell_type": "code",
   "execution_count": 39,
   "metadata": {},
   "outputs": [],
   "source": [
    "tweets_df.rating_numerator = tweets_df.rating_numerator.astype(float)\n",
    "tweets_df.rating_denominator = tweets_df.rating_denominator.astype(float)"
   ]
  },
  {
   "cell_type": "markdown",
   "metadata": {},
   "source": [
    "#### Test"
   ]
  },
  {
   "cell_type": "code",
   "execution_count": 40,
   "metadata": {},
   "outputs": [
    {
     "name": "stdout",
     "output_type": "stream",
     "text": [
      "<class 'pandas.core.frame.DataFrame'>\n",
      "Int64Index: 2074 entries, 0 to 2354\n",
      "Data columns (total 20 columns):\n",
      "tweet_id              2074 non-null object\n",
      "timestamp             2074 non-null datetime64[ns, UTC]\n",
      "text                  2074 non-null object\n",
      "rating_numerator      2074 non-null float64\n",
      "rating_denominator    2074 non-null float64\n",
      "name                  2074 non-null object\n",
      "dog_stage             2074 non-null category\n",
      "favorite_count        2074 non-null int32\n",
      "retweet_count         2074 non-null int32\n",
      "jpg_url               2074 non-null object\n",
      "img_num               2074 non-null float64\n",
      "p1                    2074 non-null object\n",
      "p1_conf               2074 non-null float64\n",
      "p1_dog                2074 non-null object\n",
      "p2                    2074 non-null object\n",
      "p2_conf               2074 non-null float64\n",
      "p2_dog                2074 non-null object\n",
      "p3                    2074 non-null object\n",
      "p3_conf               2074 non-null float64\n",
      "p3_dog                2074 non-null object\n",
      "dtypes: category(1), datetime64[ns, UTC](1), float64(6), int32(2), object(10)\n",
      "memory usage: 310.1+ KB\n"
     ]
    }
   ],
   "source": [
    "tweets_df.info()"
   ]
  },
  {
   "cell_type": "markdown",
   "metadata": {},
   "source": [
    "#### Define\n",
    "`img_num` is a number, but calculations on these numbers would be meaningless. The numbers refer to the category of image to which each observation belongs. Use `astype('category')` to change values to a categorial variable.\n",
    "#### Code"
   ]
  },
  {
   "cell_type": "code",
   "execution_count": 41,
   "metadata": {},
   "outputs": [],
   "source": [
    "tweets_df.img_num = tweets_df.img_num.astype('category')"
   ]
  },
  {
   "cell_type": "markdown",
   "metadata": {},
   "source": [
    "#### Test"
   ]
  },
  {
   "cell_type": "code",
   "execution_count": 42,
   "metadata": {},
   "outputs": [
    {
     "name": "stdout",
     "output_type": "stream",
     "text": [
      "<class 'pandas.core.frame.DataFrame'>\n",
      "Int64Index: 2074 entries, 0 to 2354\n",
      "Data columns (total 20 columns):\n",
      "tweet_id              2074 non-null object\n",
      "timestamp             2074 non-null datetime64[ns, UTC]\n",
      "text                  2074 non-null object\n",
      "rating_numerator      2074 non-null float64\n",
      "rating_denominator    2074 non-null float64\n",
      "name                  2074 non-null object\n",
      "dog_stage             2074 non-null category\n",
      "favorite_count        2074 non-null int32\n",
      "retweet_count         2074 non-null int32\n",
      "jpg_url               2074 non-null object\n",
      "img_num               2074 non-null category\n",
      "p1                    2074 non-null object\n",
      "p1_conf               2074 non-null float64\n",
      "p1_dog                2074 non-null object\n",
      "p2                    2074 non-null object\n",
      "p2_conf               2074 non-null float64\n",
      "p2_dog                2074 non-null object\n",
      "p3                    2074 non-null object\n",
      "p3_conf               2074 non-null float64\n",
      "p3_dog                2074 non-null object\n",
      "dtypes: category(2), datetime64[ns, UTC](1), float64(5), int32(2), object(10)\n",
      "memory usage: 296.1+ KB\n"
     ]
    }
   ],
   "source": [
    "tweets_df.info()"
   ]
  },
  {
   "cell_type": "markdown",
   "metadata": {},
   "source": [
    "#### Define\n",
    "`p1_dog`, `p2_dog`, and `p3_dog` are 'True', 'False' strings. Change to boolean using `astype('bool')`.\n",
    "#### Code"
   ]
  },
  {
   "cell_type": "code",
   "execution_count": 43,
   "metadata": {},
   "outputs": [],
   "source": [
    "tweets_df.p1_dog = tweets_df.p1_dog.astype('bool')\n",
    "tweets_df.p2_dog = tweets_df.p2_dog.astype('bool')\n",
    "tweets_df.p3_dog = tweets_df.p3_dog.astype('bool')"
   ]
  },
  {
   "cell_type": "markdown",
   "metadata": {},
   "source": [
    "#### Test"
   ]
  },
  {
   "cell_type": "code",
   "execution_count": 44,
   "metadata": {
    "scrolled": true
   },
   "outputs": [
    {
     "name": "stdout",
     "output_type": "stream",
     "text": [
      "<class 'pandas.core.frame.DataFrame'>\n",
      "Int64Index: 2074 entries, 0 to 2354\n",
      "Data columns (total 20 columns):\n",
      "tweet_id              2074 non-null object\n",
      "timestamp             2074 non-null datetime64[ns, UTC]\n",
      "text                  2074 non-null object\n",
      "rating_numerator      2074 non-null float64\n",
      "rating_denominator    2074 non-null float64\n",
      "name                  2074 non-null object\n",
      "dog_stage             2074 non-null category\n",
      "favorite_count        2074 non-null int32\n",
      "retweet_count         2074 non-null int32\n",
      "jpg_url               2074 non-null object\n",
      "img_num               2074 non-null category\n",
      "p1                    2074 non-null object\n",
      "p1_conf               2074 non-null float64\n",
      "p1_dog                2074 non-null bool\n",
      "p2                    2074 non-null object\n",
      "p2_conf               2074 non-null float64\n",
      "p2_dog                2074 non-null bool\n",
      "p3                    2074 non-null object\n",
      "p3_conf               2074 non-null float64\n",
      "p3_dog                2074 non-null bool\n",
      "dtypes: bool(3), category(2), datetime64[ns, UTC](1), float64(5), int32(2), object(7)\n",
      "memory usage: 253.6+ KB\n"
     ]
    }
   ],
   "source": [
    "tweets_df.info()"
   ]
  },
  {
   "cell_type": "markdown",
   "metadata": {},
   "source": [
    "Save `tweets_df` to `'tweet_master_archive.csv'`."
   ]
  },
  {
   "cell_type": "code",
   "execution_count": 57,
   "metadata": {},
   "outputs": [
    {
     "data": {
      "text/html": [
       "<div>\n",
       "<style scoped>\n",
       "    .dataframe tbody tr th:only-of-type {\n",
       "        vertical-align: middle;\n",
       "    }\n",
       "\n",
       "    .dataframe tbody tr th {\n",
       "        vertical-align: top;\n",
       "    }\n",
       "\n",
       "    .dataframe thead th {\n",
       "        text-align: right;\n",
       "    }\n",
       "</style>\n",
       "<table border=\"1\" class=\"dataframe\">\n",
       "  <thead>\n",
       "    <tr style=\"text-align: right;\">\n",
       "      <th></th>\n",
       "      <th>tweet_id</th>\n",
       "      <th>timestamp</th>\n",
       "      <th>text</th>\n",
       "      <th>rating_numerator</th>\n",
       "      <th>rating_denominator</th>\n",
       "      <th>name</th>\n",
       "      <th>dog_stage</th>\n",
       "      <th>favorite_count</th>\n",
       "      <th>retweet_count</th>\n",
       "      <th>jpg_url</th>\n",
       "      <th>img_num</th>\n",
       "      <th>p1</th>\n",
       "      <th>p1_conf</th>\n",
       "      <th>p1_dog</th>\n",
       "      <th>p2</th>\n",
       "      <th>p2_conf</th>\n",
       "      <th>p2_dog</th>\n",
       "      <th>p3</th>\n",
       "      <th>p3_conf</th>\n",
       "      <th>p3_dog</th>\n",
       "    </tr>\n",
       "  </thead>\n",
       "  <tbody>\n",
       "    <tr>\n",
       "      <th>0</th>\n",
       "      <td>892420643555336193</td>\n",
       "      <td>2017-08-01 16:23:56+00:00</td>\n",
       "      <td>This is Phineas. He's a mystical boy. Only eve...</td>\n",
       "      <td>13.0</td>\n",
       "      <td>10.0</td>\n",
       "      <td>Phineas</td>\n",
       "      <td>None</td>\n",
       "      <td>0</td>\n",
       "      <td>0</td>\n",
       "      <td>https://pbs.twimg.com/media/DGKD1-bXoAAIAUK.jpg</td>\n",
       "      <td>1.0</td>\n",
       "      <td>orange</td>\n",
       "      <td>0.097049</td>\n",
       "      <td>False</td>\n",
       "      <td>bagel</td>\n",
       "      <td>0.085851</td>\n",
       "      <td>False</td>\n",
       "      <td>banana</td>\n",
       "      <td>0.076110</td>\n",
       "      <td>False</td>\n",
       "    </tr>\n",
       "    <tr>\n",
       "      <th>1</th>\n",
       "      <td>891815181378084864</td>\n",
       "      <td>2017-07-31 00:18:03+00:00</td>\n",
       "      <td>This is Archie. He is a rare Norwegian Pouncin...</td>\n",
       "      <td>12.0</td>\n",
       "      <td>10.0</td>\n",
       "      <td>Archie</td>\n",
       "      <td>None</td>\n",
       "      <td>24391</td>\n",
       "      <td>4021</td>\n",
       "      <td>https://pbs.twimg.com/media/DGBdLU1WsAANxJ9.jpg</td>\n",
       "      <td>1.0</td>\n",
       "      <td>Chihuahua</td>\n",
       "      <td>0.716012</td>\n",
       "      <td>True</td>\n",
       "      <td>malamute</td>\n",
       "      <td>0.078253</td>\n",
       "      <td>True</td>\n",
       "      <td>kelpie</td>\n",
       "      <td>0.031379</td>\n",
       "      <td>True</td>\n",
       "    </tr>\n",
       "    <tr>\n",
       "      <th>2</th>\n",
       "      <td>891689557279858688</td>\n",
       "      <td>2017-07-30 15:58:51+00:00</td>\n",
       "      <td>This is Darla. She commenced a snooze mid meal...</td>\n",
       "      <td>13.0</td>\n",
       "      <td>10.0</td>\n",
       "      <td>Darla</td>\n",
       "      <td>None</td>\n",
       "      <td>41037</td>\n",
       "      <td>8376</td>\n",
       "      <td>https://pbs.twimg.com/media/DF_q7IAWsAEuuN8.jpg</td>\n",
       "      <td>1.0</td>\n",
       "      <td>paper_towel</td>\n",
       "      <td>0.170278</td>\n",
       "      <td>False</td>\n",
       "      <td>Labrador_retriever</td>\n",
       "      <td>0.168086</td>\n",
       "      <td>True</td>\n",
       "      <td>spatula</td>\n",
       "      <td>0.040836</td>\n",
       "      <td>False</td>\n",
       "    </tr>\n",
       "    <tr>\n",
       "      <th>3</th>\n",
       "      <td>891327558926688256</td>\n",
       "      <td>2017-07-29 16:00:24+00:00</td>\n",
       "      <td>This is Franklin. He would like you to stop ca...</td>\n",
       "      <td>12.0</td>\n",
       "      <td>10.0</td>\n",
       "      <td>Franklin</td>\n",
       "      <td>None</td>\n",
       "      <td>39229</td>\n",
       "      <td>9080</td>\n",
       "      <td>https://pbs.twimg.com/media/DF6hr6BUMAAzZgT.jpg</td>\n",
       "      <td>2.0</td>\n",
       "      <td>basset</td>\n",
       "      <td>0.555712</td>\n",
       "      <td>True</td>\n",
       "      <td>English_springer</td>\n",
       "      <td>0.225770</td>\n",
       "      <td>True</td>\n",
       "      <td>German_short-haired_pointer</td>\n",
       "      <td>0.175219</td>\n",
       "      <td>True</td>\n",
       "    </tr>\n",
       "    <tr>\n",
       "      <th>4</th>\n",
       "      <td>891087950875897856</td>\n",
       "      <td>2017-07-29 00:08:17+00:00</td>\n",
       "      <td>Here we have a majestic great white breaching ...</td>\n",
       "      <td>13.0</td>\n",
       "      <td>10.0</td>\n",
       "      <td>None</td>\n",
       "      <td>None</td>\n",
       "      <td>19719</td>\n",
       "      <td>3012</td>\n",
       "      <td>https://pbs.twimg.com/media/DF3HwyEWsAABqE6.jpg</td>\n",
       "      <td>1.0</td>\n",
       "      <td>Chesapeake_Bay_retriever</td>\n",
       "      <td>0.425595</td>\n",
       "      <td>True</td>\n",
       "      <td>Irish_terrier</td>\n",
       "      <td>0.116317</td>\n",
       "      <td>True</td>\n",
       "      <td>Indian_elephant</td>\n",
       "      <td>0.076902</td>\n",
       "      <td>False</td>\n",
       "    </tr>\n",
       "  </tbody>\n",
       "</table>\n",
       "</div>"
      ],
      "text/plain": [
       "             tweet_id                 timestamp  \\\n",
       "0  892420643555336193 2017-08-01 16:23:56+00:00   \n",
       "1  891815181378084864 2017-07-31 00:18:03+00:00   \n",
       "2  891689557279858688 2017-07-30 15:58:51+00:00   \n",
       "3  891327558926688256 2017-07-29 16:00:24+00:00   \n",
       "4  891087950875897856 2017-07-29 00:08:17+00:00   \n",
       "\n",
       "                                                text  rating_numerator  \\\n",
       "0  This is Phineas. He's a mystical boy. Only eve...              13.0   \n",
       "1  This is Archie. He is a rare Norwegian Pouncin...              12.0   \n",
       "2  This is Darla. She commenced a snooze mid meal...              13.0   \n",
       "3  This is Franklin. He would like you to stop ca...              12.0   \n",
       "4  Here we have a majestic great white breaching ...              13.0   \n",
       "\n",
       "   rating_denominator      name dog_stage  favorite_count  retweet_count  \\\n",
       "0                10.0   Phineas      None               0              0   \n",
       "1                10.0    Archie      None           24391           4021   \n",
       "2                10.0     Darla      None           41037           8376   \n",
       "3                10.0  Franklin      None           39229           9080   \n",
       "4                10.0      None      None           19719           3012   \n",
       "\n",
       "                                           jpg_url img_num  \\\n",
       "0  https://pbs.twimg.com/media/DGKD1-bXoAAIAUK.jpg     1.0   \n",
       "1  https://pbs.twimg.com/media/DGBdLU1WsAANxJ9.jpg     1.0   \n",
       "2  https://pbs.twimg.com/media/DF_q7IAWsAEuuN8.jpg     1.0   \n",
       "3  https://pbs.twimg.com/media/DF6hr6BUMAAzZgT.jpg     2.0   \n",
       "4  https://pbs.twimg.com/media/DF3HwyEWsAABqE6.jpg     1.0   \n",
       "\n",
       "                         p1   p1_conf  p1_dog                  p2   p2_conf  \\\n",
       "0                    orange  0.097049   False               bagel  0.085851   \n",
       "1                 Chihuahua  0.716012    True            malamute  0.078253   \n",
       "2               paper_towel  0.170278   False  Labrador_retriever  0.168086   \n",
       "3                    basset  0.555712    True    English_springer  0.225770   \n",
       "4  Chesapeake_Bay_retriever  0.425595    True       Irish_terrier  0.116317   \n",
       "\n",
       "   p2_dog                           p3   p3_conf  p3_dog  \n",
       "0   False                       banana  0.076110   False  \n",
       "1    True                       kelpie  0.031379    True  \n",
       "2    True                      spatula  0.040836   False  \n",
       "3    True  German_short-haired_pointer  0.175219    True  \n",
       "4    True              Indian_elephant  0.076902   False  "
      ]
     },
     "metadata": {},
     "output_type": "display_data"
    }
   ],
   "source": [
    "display(tweets_df.head())\n",
    "tweets_df.to_csv('twitter_archive_master.csv')"
   ]
  },
  {
   "cell_type": "markdown",
   "metadata": {},
   "source": [
    "## Analyze\n",
    "### Correlations\n",
    "Use `corr()` to check for correlations between variables."
   ]
  },
  {
   "cell_type": "code",
   "execution_count": 46,
   "metadata": {},
   "outputs": [
    {
     "data": {
      "text/html": [
       "<div>\n",
       "<style scoped>\n",
       "    .dataframe tbody tr th:only-of-type {\n",
       "        vertical-align: middle;\n",
       "    }\n",
       "\n",
       "    .dataframe tbody tr th {\n",
       "        vertical-align: top;\n",
       "    }\n",
       "\n",
       "    .dataframe thead th {\n",
       "        text-align: right;\n",
       "    }\n",
       "</style>\n",
       "<table border=\"1\" class=\"dataframe\">\n",
       "  <thead>\n",
       "    <tr style=\"text-align: right;\">\n",
       "      <th></th>\n",
       "      <th>rating_numerator</th>\n",
       "      <th>rating_denominator</th>\n",
       "      <th>favorite_count</th>\n",
       "      <th>retweet_count</th>\n",
       "      <th>p1_conf</th>\n",
       "      <th>p1_dog</th>\n",
       "      <th>p2_conf</th>\n",
       "      <th>p2_dog</th>\n",
       "      <th>p3_conf</th>\n",
       "      <th>p3_dog</th>\n",
       "    </tr>\n",
       "  </thead>\n",
       "  <tbody>\n",
       "    <tr>\n",
       "      <th>rating_numerator</th>\n",
       "      <td>1.000000</td>\n",
       "      <td>0.198241</td>\n",
       "      <td>0.020965</td>\n",
       "      <td>0.024153</td>\n",
       "      <td>-0.009125</td>\n",
       "      <td>-0.028490</td>\n",
       "      <td>-0.020312</td>\n",
       "      <td>-0.033710</td>\n",
       "      <td>-0.003891</td>\n",
       "      <td>-0.028474</td>\n",
       "    </tr>\n",
       "    <tr>\n",
       "      <th>rating_denominator</th>\n",
       "      <td>0.198241</td>\n",
       "      <td>1.000000</td>\n",
       "      <td>-0.020523</td>\n",
       "      <td>-0.016562</td>\n",
       "      <td>-0.004363</td>\n",
       "      <td>0.001037</td>\n",
       "      <td>-0.034412</td>\n",
       "      <td>-0.000458</td>\n",
       "      <td>0.006829</td>\n",
       "      <td>0.005050</td>\n",
       "    </tr>\n",
       "    <tr>\n",
       "      <th>favorite_count</th>\n",
       "      <td>0.020965</td>\n",
       "      <td>-0.020523</td>\n",
       "      <td>1.000000</td>\n",
       "      <td>0.847670</td>\n",
       "      <td>0.052446</td>\n",
       "      <td>0.052386</td>\n",
       "      <td>0.007404</td>\n",
       "      <td>0.068812</td>\n",
       "      <td>-0.022917</td>\n",
       "      <td>0.053374</td>\n",
       "    </tr>\n",
       "    <tr>\n",
       "      <th>retweet_count</th>\n",
       "      <td>0.024153</td>\n",
       "      <td>-0.016562</td>\n",
       "      <td>0.847670</td>\n",
       "      <td>1.000000</td>\n",
       "      <td>0.033134</td>\n",
       "      <td>0.014496</td>\n",
       "      <td>0.007720</td>\n",
       "      <td>0.043263</td>\n",
       "      <td>-0.016239</td>\n",
       "      <td>0.021665</td>\n",
       "    </tr>\n",
       "    <tr>\n",
       "      <th>p1_conf</th>\n",
       "      <td>-0.009125</td>\n",
       "      <td>-0.004363</td>\n",
       "      <td>0.052446</td>\n",
       "      <td>0.033134</td>\n",
       "      <td>1.000000</td>\n",
       "      <td>0.119747</td>\n",
       "      <td>-0.511655</td>\n",
       "      <td>0.132925</td>\n",
       "      <td>-0.709544</td>\n",
       "      <td>0.110005</td>\n",
       "    </tr>\n",
       "    <tr>\n",
       "      <th>p1_dog</th>\n",
       "      <td>-0.028490</td>\n",
       "      <td>0.001037</td>\n",
       "      <td>0.052386</td>\n",
       "      <td>0.014496</td>\n",
       "      <td>0.119747</td>\n",
       "      <td>1.000000</td>\n",
       "      <td>0.112598</td>\n",
       "      <td>0.635171</td>\n",
       "      <td>0.048787</td>\n",
       "      <td>0.556358</td>\n",
       "    </tr>\n",
       "    <tr>\n",
       "      <th>p2_conf</th>\n",
       "      <td>-0.020312</td>\n",
       "      <td>-0.034412</td>\n",
       "      <td>0.007404</td>\n",
       "      <td>0.007720</td>\n",
       "      <td>-0.511655</td>\n",
       "      <td>0.112598</td>\n",
       "      <td>1.000000</td>\n",
       "      <td>0.100941</td>\n",
       "      <td>0.479088</td>\n",
       "      <td>0.067854</td>\n",
       "    </tr>\n",
       "    <tr>\n",
       "      <th>p2_dog</th>\n",
       "      <td>-0.033710</td>\n",
       "      <td>-0.000458</td>\n",
       "      <td>0.068812</td>\n",
       "      <td>0.043263</td>\n",
       "      <td>0.132925</td>\n",
       "      <td>0.635171</td>\n",
       "      <td>0.100941</td>\n",
       "      <td>1.000000</td>\n",
       "      <td>0.042859</td>\n",
       "      <td>0.550767</td>\n",
       "    </tr>\n",
       "    <tr>\n",
       "      <th>p3_conf</th>\n",
       "      <td>-0.003891</td>\n",
       "      <td>0.006829</td>\n",
       "      <td>-0.022917</td>\n",
       "      <td>-0.016239</td>\n",
       "      <td>-0.709544</td>\n",
       "      <td>0.048787</td>\n",
       "      <td>0.479088</td>\n",
       "      <td>0.042859</td>\n",
       "      <td>1.000000</td>\n",
       "      <td>0.041740</td>\n",
       "    </tr>\n",
       "    <tr>\n",
       "      <th>p3_dog</th>\n",
       "      <td>-0.028474</td>\n",
       "      <td>0.005050</td>\n",
       "      <td>0.053374</td>\n",
       "      <td>0.021665</td>\n",
       "      <td>0.110005</td>\n",
       "      <td>0.556358</td>\n",
       "      <td>0.067854</td>\n",
       "      <td>0.550767</td>\n",
       "      <td>0.041740</td>\n",
       "      <td>1.000000</td>\n",
       "    </tr>\n",
       "  </tbody>\n",
       "</table>\n",
       "</div>"
      ],
      "text/plain": [
       "                    rating_numerator  rating_denominator  favorite_count  \\\n",
       "rating_numerator            1.000000            0.198241        0.020965   \n",
       "rating_denominator          0.198241            1.000000       -0.020523   \n",
       "favorite_count              0.020965           -0.020523        1.000000   \n",
       "retweet_count               0.024153           -0.016562        0.847670   \n",
       "p1_conf                    -0.009125           -0.004363        0.052446   \n",
       "p1_dog                     -0.028490            0.001037        0.052386   \n",
       "p2_conf                    -0.020312           -0.034412        0.007404   \n",
       "p2_dog                     -0.033710           -0.000458        0.068812   \n",
       "p3_conf                    -0.003891            0.006829       -0.022917   \n",
       "p3_dog                     -0.028474            0.005050        0.053374   \n",
       "\n",
       "                    retweet_count   p1_conf    p1_dog   p2_conf    p2_dog  \\\n",
       "rating_numerator         0.024153 -0.009125 -0.028490 -0.020312 -0.033710   \n",
       "rating_denominator      -0.016562 -0.004363  0.001037 -0.034412 -0.000458   \n",
       "favorite_count           0.847670  0.052446  0.052386  0.007404  0.068812   \n",
       "retweet_count            1.000000  0.033134  0.014496  0.007720  0.043263   \n",
       "p1_conf                  0.033134  1.000000  0.119747 -0.511655  0.132925   \n",
       "p1_dog                   0.014496  0.119747  1.000000  0.112598  0.635171   \n",
       "p2_conf                  0.007720 -0.511655  0.112598  1.000000  0.100941   \n",
       "p2_dog                   0.043263  0.132925  0.635171  0.100941  1.000000   \n",
       "p3_conf                 -0.016239 -0.709544  0.048787  0.479088  0.042859   \n",
       "p3_dog                   0.021665  0.110005  0.556358  0.067854  0.550767   \n",
       "\n",
       "                     p3_conf    p3_dog  \n",
       "rating_numerator   -0.003891 -0.028474  \n",
       "rating_denominator  0.006829  0.005050  \n",
       "favorite_count     -0.022917  0.053374  \n",
       "retweet_count      -0.016239  0.021665  \n",
       "p1_conf            -0.709544  0.110005  \n",
       "p1_dog              0.048787  0.556358  \n",
       "p2_conf             0.479088  0.067854  \n",
       "p2_dog              0.042859  0.550767  \n",
       "p3_conf             1.000000  0.041740  \n",
       "p3_dog              0.041740  1.000000  "
      ]
     },
     "execution_count": 46,
     "metadata": {},
     "output_type": "execute_result"
    }
   ],
   "source": [
    "tweets_df.corr(method='pearson')"
   ]
  },
  {
   "cell_type": "markdown",
   "metadata": {},
   "source": [
    "The largest, most interesting correlation is between `retweet_count` and `favorite_count`. Here is the scatterplot of that correlation:"
   ]
  },
  {
   "cell_type": "code",
   "execution_count": 47,
   "metadata": {},
   "outputs": [
    {
     "name": "stderr",
     "output_type": "stream",
     "text": [
      "C:\\Users\\isaac\\Anaconda3\\lib\\site-packages\\scipy\\stats\\stats.py:1713: FutureWarning: Using a non-tuple sequence for multidimensional indexing is deprecated; use `arr[tuple(seq)]` instead of `arr[seq]`. In the future this will be interpreted as an array index, `arr[np.array(seq)]`, which will result either in an error or a different result.\n",
      "  return np.add.reduce(sorted[indexer] * weights, axis=axis) / sumval\n"
     ]
    },
    {
     "data": {
      "image/png": "[encoded data removed]",
      "text/plain": [
       "<Figure size 432x288 with 1 Axes>"
      ]
     },
     "metadata": {
      "needs_background": "light"
     },
     "output_type": "display_data"
    }
   ],
   "source": [
    "ax = sns.regplot(x=\"retweet_count\", y=\"favorite_count\", data=tweets_df);\n",
    "ax.set(title = \"Corrleation Between Retweets and Favorites\", xlabel = 'Retweet Count', ylabel = 'Favorite Count');"
   ]
  },
  {
   "cell_type": "markdown",
   "metadata": {},
   "source": [
    "### Dog Breeds\n",
    "\n",
    "#### Was the Prediction a Breed of Dog?"
   ]
  },
  {
   "cell_type": "markdown",
   "metadata": {},
   "source": [
    "Let's take a look at the prediction algorithm. How many times did the algorithm predict a breed of dog?"
   ]
  },
  {
   "cell_type": "code",
   "execution_count": 48,
   "metadata": {},
   "outputs": [
    {
     "data": {
      "text/plain": [
       "True     4581\n",
       "False    1641\n",
       "dtype: int64"
      ]
     },
     "metadata": {},
     "output_type": "display_data"
    },
    {
     "data": {
      "image/png": "[encoded data removed]",
      "text/plain": [
       "<Figure size 432x288 with 1 Axes>"
      ]
     },
     "metadata": {
      "needs_background": "light"
     },
     "output_type": "display_data"
    }
   ],
   "source": [
    "df1 = pd.concat([tweets_df.p1_dog,tweets_df.p2_dog, tweets_df.p3_dog])\n",
    "display(df1.value_counts())\n",
    "ax = pd.value_counts(df1).plot.bar()\n",
    "ax.set(title=\"True or False: Was the Prediction a Breed of Dog?\", ylabel = 'Count');"
   ]
  },
  {
   "cell_type": "markdown",
   "metadata": {},
   "source": [
    "#### Confidence Levels\n",
    "\n",
    "What is the average confidence level of the predictions?"
   ]
  },
  {
   "cell_type": "code",
   "execution_count": 49,
   "metadata": {},
   "outputs": [
    {
     "data": {
      "text/plain": [
       "0.26320290536738733"
      ]
     },
     "execution_count": 49,
     "metadata": {},
     "output_type": "execute_result"
    }
   ],
   "source": [
    "avg_conf = ((tweets_df.p1_conf.sum() + tweets_df.p2_conf.sum() + tweets_df.p3_conf.sum()) /\n",
    "            (tweets_df.p1_conf.count() + tweets_df.p2_conf.count() + tweets_df.p3_conf.count()))\n",
    "avg_conf"
   ]
  },
  {
   "cell_type": "markdown",
   "metadata": {},
   "source": [
    "Were any of the predictions more confident than the others?\n",
    "\n",
    "##### `p1` Confidence"
   ]
  },
  {
   "cell_type": "code",
   "execution_count": 50,
   "metadata": {},
   "outputs": [
    {
     "data": {
      "text/plain": [
       "0.5946789132111867"
      ]
     },
     "execution_count": 50,
     "metadata": {},
     "output_type": "execute_result"
    }
   ],
   "source": [
    "tweets_df.p1_conf.mean()"
   ]
  },
  {
   "cell_type": "markdown",
   "metadata": {},
   "source": [
    "##### `p2` Confidence"
   ]
  },
  {
   "cell_type": "code",
   "execution_count": 51,
   "metadata": {},
   "outputs": [
    {
     "data": {
      "text/plain": [
       "0.13460979663129835"
      ]
     },
     "execution_count": 51,
     "metadata": {},
     "output_type": "execute_result"
    }
   ],
   "source": [
    "tweets_df.p2_conf.mean()"
   ]
  },
  {
   "cell_type": "markdown",
   "metadata": {},
   "source": [
    "##### `p3` Confidence"
   ]
  },
  {
   "cell_type": "code",
   "execution_count": 52,
   "metadata": {},
   "outputs": [
    {
     "data": {
      "text/plain": [
       "0.06032000625967743"
      ]
     },
     "execution_count": 52,
     "metadata": {},
     "output_type": "execute_result"
    }
   ],
   "source": [
    "tweets_df.p3_conf.mean()"
   ]
  },
  {
   "cell_type": "markdown",
   "metadata": {},
   "source": [
    "The most confident preidictions came from `p1_conf`. I will use `p1` to find some information about the predicted breeds in this dataset.\n",
    "\n",
    "To begin,  create `dogs_df` to use only rows where `p1` truly predicted a breed of dog."
   ]
  },
  {
   "cell_type": "code",
   "execution_count": 53,
   "metadata": {},
   "outputs": [],
   "source": [
    "dogs_df = tweets_df[tweets_df.p1_dog]"
   ]
  },
  {
   "cell_type": "markdown",
   "metadata": {},
   "source": [
    "#### Most Commonly Predicted Dog Breeds\n",
    "The most commonly predicted dog breeds for `p1`:"
   ]
  },
  {
   "cell_type": "code",
   "execution_count": 54,
   "metadata": {},
   "outputs": [
    {
     "data": {
      "image/png": "[encoded data removed]",
      "text/plain": [
       "<Figure size 1080x576 with 1 Axes>"
      ]
     },
     "metadata": {
      "needs_background": "light"
     },
     "output_type": "display_data"
    }
   ],
   "source": [
    "fig = plt.figure(figsize=(15,8))\n",
    "ax = dogs_df.p1.value_counts().sort_values(ascending=False).nlargest(15).plot(kind='bar')\n",
    "ax.set(title = 'Predicted Dog Breeds', xlabel=\"Breed\", ylabel=\"Count\");"
   ]
  },
  {
   "cell_type": "markdown",
   "metadata": {},
   "source": [
    "#### Highest Rated Dogs\n",
    "\n",
    "Use `rating_numerator` to get a sense of the highest rated dogs."
   ]
  },
  {
   "cell_type": "code",
   "execution_count": 55,
   "metadata": {},
   "outputs": [
    {
     "data": {
      "image/png": "[encoded data removed]",
      "text/plain": [
       "<Figure size 1080x576 with 1 Axes>"
      ]
     },
     "metadata": {
      "needs_background": "light"
     },
     "output_type": "display_data"
    }
   ],
   "source": [
    "fig = plt.figure(figsize=(15,8))\n",
    "ax = dogs_df.groupby('p1')['rating_numerator'].mean().sort_values(ascending=False).nlargest(15).plot(kind='bar')\n",
    "ax.set(title=\"Dog Rating Numerators\", xlabel=\"p1 Breeds\", ylabel=\"Rating Numerator\");"
   ]
  },
  {
   "cell_type": "code",
   "execution_count": null,
   "metadata": {},
   "outputs": [],
   "source": []
  }
 ],
 "metadata": {
  "kernelspec": {
   "display_name": "Python 3",
   "language": "python",
   "name": "python3"
  },
  "language_info": {
   "codemirror_mode": {
    "name": "ipython",
    "version": 3
   },
   "file_extension": ".py",
   "mimetype": "text/x-python",
   "name": "python",
   "nbconvert_exporter": "python",
   "pygments_lexer": "ipython3",
   "version": "3.6.7"
  }
 },
 "nbformat": 4,
 "nbformat_minor": 2
}
